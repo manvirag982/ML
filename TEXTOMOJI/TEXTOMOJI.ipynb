{
 "cells": [
  {
   "cell_type": "code",
   "execution_count": 12,
   "metadata": {},
   "outputs": [],
   "source": [
    "# READ train and test\n",
    "# load pretrained glove\n",
    "# make embedded input and output cleaing\n",
    "# make model\n",
    "# train\n",
    "# test\n",
    "\n",
    "# Doubts  utf encoding\n",
    "from keras.utils import np_utils\n",
    "import pandas as pd\n",
    "import numpy as np"
   ]
  },
  {
   "cell_type": "code",
   "execution_count": 13,
   "metadata": {},
   "outputs": [],
   "source": [
    "train_data=pd.read_csv('train_emoji.csv',header=None)\n",
    "test_data=pd.read_csv('test_emoji.csv',header=None)"
   ]
  },
  {
   "cell_type": "code",
   "execution_count": 14,
   "metadata": {},
   "outputs": [
    {
     "data": {
      "text/html": [
       "<div>\n",
       "<style scoped>\n",
       "    .dataframe tbody tr th:only-of-type {\n",
       "        vertical-align: middle;\n",
       "    }\n",
       "\n",
       "    .dataframe tbody tr th {\n",
       "        vertical-align: top;\n",
       "    }\n",
       "\n",
       "    .dataframe thead th {\n",
       "        text-align: right;\n",
       "    }\n",
       "</style>\n",
       "<table border=\"1\" class=\"dataframe\">\n",
       "  <thead>\n",
       "    <tr style=\"text-align: right;\">\n",
       "      <th></th>\n",
       "      <th>0</th>\n",
       "      <th>1</th>\n",
       "      <th>2</th>\n",
       "      <th>3</th>\n",
       "    </tr>\n",
       "  </thead>\n",
       "  <tbody>\n",
       "    <tr>\n",
       "      <th>0</th>\n",
       "      <td>never talk to me again</td>\n",
       "      <td>3</td>\n",
       "      <td>NaN</td>\n",
       "      <td>NaN</td>\n",
       "    </tr>\n",
       "    <tr>\n",
       "      <th>1</th>\n",
       "      <td>I am proud of your achievements</td>\n",
       "      <td>2</td>\n",
       "      <td>NaN</td>\n",
       "      <td>NaN</td>\n",
       "    </tr>\n",
       "    <tr>\n",
       "      <th>2</th>\n",
       "      <td>It is the worst day in my life</td>\n",
       "      <td>3</td>\n",
       "      <td>NaN</td>\n",
       "      <td>NaN</td>\n",
       "    </tr>\n",
       "    <tr>\n",
       "      <th>3</th>\n",
       "      <td>Miss you so much</td>\n",
       "      <td>0</td>\n",
       "      <td>NaN</td>\n",
       "      <td></td>\n",
       "    </tr>\n",
       "    <tr>\n",
       "      <th>4</th>\n",
       "      <td>food is life</td>\n",
       "      <td>4</td>\n",
       "      <td>NaN</td>\n",
       "      <td>NaN</td>\n",
       "    </tr>\n",
       "  </tbody>\n",
       "</table>\n",
       "</div>"
      ],
      "text/plain": [
       "                                 0  1   2    3\n",
       "0           never talk to me again  3 NaN  NaN\n",
       "1  I am proud of your achievements  2 NaN  NaN\n",
       "2   It is the worst day in my life  3 NaN  NaN\n",
       "3                 Miss you so much  0 NaN     \n",
       "4                     food is life  4 NaN  NaN"
      ]
     },
     "execution_count": 14,
     "metadata": {},
     "output_type": "execute_result"
    }
   ],
   "source": [
    "train_data.head()"
   ]
  },
  {
   "cell_type": "code",
   "execution_count": 15,
   "metadata": {},
   "outputs": [
    {
     "data": {
      "text/html": [
       "<div>\n",
       "<style scoped>\n",
       "    .dataframe tbody tr th:only-of-type {\n",
       "        vertical-align: middle;\n",
       "    }\n",
       "\n",
       "    .dataframe tbody tr th {\n",
       "        vertical-align: top;\n",
       "    }\n",
       "\n",
       "    .dataframe thead th {\n",
       "        text-align: right;\n",
       "    }\n",
       "</style>\n",
       "<table border=\"1\" class=\"dataframe\">\n",
       "  <thead>\n",
       "    <tr style=\"text-align: right;\">\n",
       "      <th></th>\n",
       "      <th>0</th>\n",
       "      <th>1</th>\n",
       "    </tr>\n",
       "  </thead>\n",
       "  <tbody>\n",
       "    <tr>\n",
       "      <th>0</th>\n",
       "      <td>I want to eat\\t</td>\n",
       "      <td>4</td>\n",
       "    </tr>\n",
       "    <tr>\n",
       "      <th>1</th>\n",
       "      <td>he did not answer\\t</td>\n",
       "      <td>3</td>\n",
       "    </tr>\n",
       "    <tr>\n",
       "      <th>2</th>\n",
       "      <td>he got a raise\\t</td>\n",
       "      <td>2</td>\n",
       "    </tr>\n",
       "    <tr>\n",
       "      <th>3</th>\n",
       "      <td>she got me a present\\t</td>\n",
       "      <td>0</td>\n",
       "    </tr>\n",
       "    <tr>\n",
       "      <th>4</th>\n",
       "      <td>ha ha ha it was so funny\\t</td>\n",
       "      <td>2</td>\n",
       "    </tr>\n",
       "  </tbody>\n",
       "</table>\n",
       "</div>"
      ],
      "text/plain": [
       "                            0  1\n",
       "0             I want to eat\\t  4\n",
       "1         he did not answer\\t  3\n",
       "2            he got a raise\\t  2\n",
       "3      she got me a present\\t  0\n",
       "4  ha ha ha it was so funny\\t  2"
      ]
     },
     "execution_count": 15,
     "metadata": {},
     "output_type": "execute_result"
    }
   ],
   "source": [
    "test_data.head()"
   ]
  },
  {
   "cell_type": "code",
   "execution_count": 16,
   "metadata": {},
   "outputs": [
    {
     "name": "stdout",
     "output_type": "stream",
     "text": [
      "[ 4.1800e-01  2.4968e-01 -4.1242e-01  1.2170e-01  3.4527e-01 -4.4457e-02\n",
      " -4.9688e-01 -1.7862e-01 -6.6023e-04 -6.5660e-01  2.7843e-01 -1.4767e-01\n",
      " -5.5677e-01  1.4658e-01 -9.5095e-03  1.1658e-02  1.0204e-01 -1.2792e-01\n",
      " -8.4430e-01 -1.2181e-01 -1.6801e-02 -3.3279e-01 -1.5520e-01 -2.3131e-01\n",
      " -1.9181e-01 -1.8823e+00 -7.6746e-01  9.9051e-02 -4.2125e-01 -1.9526e-01\n",
      "  4.0071e+00 -1.8594e-01 -5.2287e-01 -3.1681e-01  5.9213e-04  7.4449e-03\n",
      "  1.7778e-01 -1.5897e-01  1.2041e-02 -5.4223e-02 -2.9871e-01 -1.5749e-01\n",
      " -3.4758e-01 -4.5637e-02 -4.4251e-01  1.8785e-01  2.7849e-03 -1.8411e-01\n",
      " -1.1514e-01 -7.8581e-01]\n"
     ]
    }
   ],
   "source": [
    "pretrained_glove=open('glove.6B.50d.txt',encoding='utf8')\n",
    "word_to_value={}\n",
    "\n",
    "for value in pretrained_glove:\n",
    "    data=value.split()\n",
    "    name=data[0]\n",
    "    values=np.asarray(data[1:],dtype=float)\n",
    "    word_to_value[name]=values;\n",
    "#     print(type(values))\n",
    "\n",
    "print(word_to_value['the'])"
   ]
  },
  {
   "cell_type": "code",
   "execution_count": 17,
   "metadata": {},
   "outputs": [],
   "source": [
    "embedded_input=np.zeros((train_data.shape[0],10,50))"
   ]
  },
  {
   "cell_type": "code",
   "execution_count": 18,
   "metadata": {},
   "outputs": [],
   "source": [
    "input_y=train_data[1].values"
   ]
  },
  {
   "cell_type": "code",
   "execution_count": 19,
   "metadata": {},
   "outputs": [
    {
     "name": "stdout",
     "output_type": "stream",
     "text": [
      "[3 2 3 0 4 0 3 2 3 1 3 3 1 3 2 3 2 3 1 2 3 0 2 2 2 1 4 2 2 4 0 3 4 2 0 3 2\n",
      " 2 3 4 2 2 0 2 3 0 3 2 4 3 0 3 3 3 4 2 1 1 1 2 3 1 0 0 0 3 4 4 2 2 1 2 0 3\n",
      " 2 2 0 0 3 1 2 1 2 2 4 3 3 2 4 0 0 0 3 3 3 2 0 1 2 3 0 2 2 2 3 2 2 2 4 1 1\n",
      " 3 3 4 1 2 1 1 3 1 0 4 0 3 3 4 4 1 4 3 0 2]\n"
     ]
    }
   ],
   "source": [
    "print(input_y)"
   ]
  },
  {
   "cell_type": "code",
   "execution_count": 21,
   "metadata": {},
   "outputs": [],
   "source": [
    "input_y = np_utils.to_categorical(input_y)"
   ]
  },
  {
   "cell_type": "code",
   "execution_count": 22,
   "metadata": {},
   "outputs": [
    {
     "data": {
      "text/plain": [
       "array([[0., 0., 0., 1., 0.],\n",
       "       [0., 0., 1., 0., 0.],\n",
       "       [0., 0., 0., 1., 0.],\n",
       "       [1., 0., 0., 0., 0.],\n",
       "       [0., 0., 0., 0., 1.],\n",
       "       [1., 0., 0., 0., 0.],\n",
       "       [0., 0., 0., 1., 0.],\n",
       "       [0., 0., 1., 0., 0.],\n",
       "       [0., 0., 0., 1., 0.],\n",
       "       [0., 1., 0., 0., 0.],\n",
       "       [0., 0., 0., 1., 0.],\n",
       "       [0., 0., 0., 1., 0.],\n",
       "       [0., 1., 0., 0., 0.],\n",
       "       [0., 0., 0., 1., 0.],\n",
       "       [0., 0., 1., 0., 0.],\n",
       "       [0., 0., 0., 1., 0.],\n",
       "       [0., 0., 1., 0., 0.],\n",
       "       [0., 0., 0., 1., 0.],\n",
       "       [0., 1., 0., 0., 0.],\n",
       "       [0., 0., 1., 0., 0.],\n",
       "       [0., 0., 0., 1., 0.],\n",
       "       [1., 0., 0., 0., 0.],\n",
       "       [0., 0., 1., 0., 0.],\n",
       "       [0., 0., 1., 0., 0.],\n",
       "       [0., 0., 1., 0., 0.],\n",
       "       [0., 1., 0., 0., 0.],\n",
       "       [0., 0., 0., 0., 1.],\n",
       "       [0., 0., 1., 0., 0.],\n",
       "       [0., 0., 1., 0., 0.],\n",
       "       [0., 0., 0., 0., 1.],\n",
       "       [1., 0., 0., 0., 0.],\n",
       "       [0., 0., 0., 1., 0.],\n",
       "       [0., 0., 0., 0., 1.],\n",
       "       [0., 0., 1., 0., 0.],\n",
       "       [1., 0., 0., 0., 0.],\n",
       "       [0., 0., 0., 1., 0.],\n",
       "       [0., 0., 1., 0., 0.],\n",
       "       [0., 0., 1., 0., 0.],\n",
       "       [0., 0., 0., 1., 0.],\n",
       "       [0., 0., 0., 0., 1.],\n",
       "       [0., 0., 1., 0., 0.],\n",
       "       [0., 0., 1., 0., 0.],\n",
       "       [1., 0., 0., 0., 0.],\n",
       "       [0., 0., 1., 0., 0.],\n",
       "       [0., 0., 0., 1., 0.],\n",
       "       [1., 0., 0., 0., 0.],\n",
       "       [0., 0., 0., 1., 0.],\n",
       "       [0., 0., 1., 0., 0.],\n",
       "       [0., 0., 0., 0., 1.],\n",
       "       [0., 0., 0., 1., 0.],\n",
       "       [1., 0., 0., 0., 0.],\n",
       "       [0., 0., 0., 1., 0.],\n",
       "       [0., 0., 0., 1., 0.],\n",
       "       [0., 0., 0., 1., 0.],\n",
       "       [0., 0., 0., 0., 1.],\n",
       "       [0., 0., 1., 0., 0.],\n",
       "       [0., 1., 0., 0., 0.],\n",
       "       [0., 1., 0., 0., 0.],\n",
       "       [0., 1., 0., 0., 0.],\n",
       "       [0., 0., 1., 0., 0.],\n",
       "       [0., 0., 0., 1., 0.],\n",
       "       [0., 1., 0., 0., 0.],\n",
       "       [1., 0., 0., 0., 0.],\n",
       "       [1., 0., 0., 0., 0.],\n",
       "       [1., 0., 0., 0., 0.],\n",
       "       [0., 0., 0., 1., 0.],\n",
       "       [0., 0., 0., 0., 1.],\n",
       "       [0., 0., 0., 0., 1.],\n",
       "       [0., 0., 1., 0., 0.],\n",
       "       [0., 0., 1., 0., 0.],\n",
       "       [0., 1., 0., 0., 0.],\n",
       "       [0., 0., 1., 0., 0.],\n",
       "       [1., 0., 0., 0., 0.],\n",
       "       [0., 0., 0., 1., 0.],\n",
       "       [0., 0., 1., 0., 0.],\n",
       "       [0., 0., 1., 0., 0.],\n",
       "       [1., 0., 0., 0., 0.],\n",
       "       [1., 0., 0., 0., 0.],\n",
       "       [0., 0., 0., 1., 0.],\n",
       "       [0., 1., 0., 0., 0.],\n",
       "       [0., 0., 1., 0., 0.],\n",
       "       [0., 1., 0., 0., 0.],\n",
       "       [0., 0., 1., 0., 0.],\n",
       "       [0., 0., 1., 0., 0.],\n",
       "       [0., 0., 0., 0., 1.],\n",
       "       [0., 0., 0., 1., 0.],\n",
       "       [0., 0., 0., 1., 0.],\n",
       "       [0., 0., 1., 0., 0.],\n",
       "       [0., 0., 0., 0., 1.],\n",
       "       [1., 0., 0., 0., 0.],\n",
       "       [1., 0., 0., 0., 0.],\n",
       "       [1., 0., 0., 0., 0.],\n",
       "       [0., 0., 0., 1., 0.],\n",
       "       [0., 0., 0., 1., 0.],\n",
       "       [0., 0., 0., 1., 0.],\n",
       "       [0., 0., 1., 0., 0.],\n",
       "       [1., 0., 0., 0., 0.],\n",
       "       [0., 1., 0., 0., 0.],\n",
       "       [0., 0., 1., 0., 0.],\n",
       "       [0., 0., 0., 1., 0.],\n",
       "       [1., 0., 0., 0., 0.],\n",
       "       [0., 0., 1., 0., 0.],\n",
       "       [0., 0., 1., 0., 0.],\n",
       "       [0., 0., 1., 0., 0.],\n",
       "       [0., 0., 0., 1., 0.],\n",
       "       [0., 0., 1., 0., 0.],\n",
       "       [0., 0., 1., 0., 0.],\n",
       "       [0., 0., 1., 0., 0.],\n",
       "       [0., 0., 0., 0., 1.],\n",
       "       [0., 1., 0., 0., 0.],\n",
       "       [0., 1., 0., 0., 0.],\n",
       "       [0., 0., 0., 1., 0.],\n",
       "       [0., 0., 0., 1., 0.],\n",
       "       [0., 0., 0., 0., 1.],\n",
       "       [0., 1., 0., 0., 0.],\n",
       "       [0., 0., 1., 0., 0.],\n",
       "       [0., 1., 0., 0., 0.],\n",
       "       [0., 1., 0., 0., 0.],\n",
       "       [0., 0., 0., 1., 0.],\n",
       "       [0., 1., 0., 0., 0.],\n",
       "       [1., 0., 0., 0., 0.],\n",
       "       [0., 0., 0., 0., 1.],\n",
       "       [1., 0., 0., 0., 0.],\n",
       "       [0., 0., 0., 1., 0.],\n",
       "       [0., 0., 0., 1., 0.],\n",
       "       [0., 0., 0., 0., 1.],\n",
       "       [0., 0., 0., 0., 1.],\n",
       "       [0., 1., 0., 0., 0.],\n",
       "       [0., 0., 0., 0., 1.],\n",
       "       [0., 0., 0., 1., 0.],\n",
       "       [1., 0., 0., 0., 0.],\n",
       "       [0., 0., 1., 0., 0.]], dtype=float32)"
      ]
     },
     "execution_count": 22,
     "metadata": {},
     "output_type": "execute_result"
    }
   ],
   "source": [
    "input_y  # train y is ready to go into mode now embedd"
   ]
  },
  {
   "cell_type": "code",
   "execution_count": 81,
   "metadata": {},
   "outputs": [],
   "source": [
    "train_text=train_data[0].values\n",
    "X_test=test_data[0].values\n",
    "Y_test=test_data[1].values\n",
    "tt=Y_test\n",
    "Y_test = np_utils.to_categorical(Y_test)\n",
    "embedded_test=np.zeros((len(X_test),10,50))"
   ]
  },
  {
   "cell_type": "code",
   "execution_count": 82,
   "metadata": {},
   "outputs": [],
   "source": [
    "for i in range(0,train_text.shape[0]):\n",
    "    List=train_text[i].split()\n",
    "    for j in range(0,min(len(List),10)):\n",
    "            embedded_input[i][j]=word_to_value[List[j].lower()]\n",
    "for i in range(0,len(X_test)):\n",
    "    List=X_test[i].split()\n",
    "    for j in range(0,min(len(List),10)):\n",
    "            embedded_test[i][j]=word_to_value[List[j].lower()]\n"
   ]
  },
  {
   "cell_type": "code",
   "execution_count": 83,
   "metadata": {},
   "outputs": [
    {
     "name": "stdout",
     "output_type": "stream",
     "text": [
      "(132, 10, 50)\n",
      "(56, 10, 50)\n"
     ]
    }
   ],
   "source": [
    "print(embedded_input.shape)\n",
    "print(embedded_test.shape)"
   ]
  },
  {
   "cell_type": "code",
   "execution_count": 84,
   "metadata": {},
   "outputs": [
    {
     "name": "stdout",
     "output_type": "stream",
     "text": [
      "Model: \"sequential_3\"\n",
      "_________________________________________________________________\n",
      "Layer (type)                 Output Shape              Param #   \n",
      "=================================================================\n",
      "lstm_6 (LSTM)                (None, 10, 128)           91648     \n",
      "_________________________________________________________________\n",
      "dropout_6 (Dropout)          (None, 10, 128)           0         \n",
      "_________________________________________________________________\n",
      "lstm_7 (LSTM)                (None, 128)               131584    \n",
      "_________________________________________________________________\n",
      "dropout_7 (Dropout)          (None, 128)               0         \n",
      "_________________________________________________________________\n",
      "dense_7 (Dense)              (None, 64)                8256      \n",
      "_________________________________________________________________\n",
      "dense_8 (Dense)              (None, 25)                1625      \n",
      "_________________________________________________________________\n",
      "dense_9 (Dense)              (None, 5)                 130       \n",
      "_________________________________________________________________\n",
      "activation_3 (Activation)    (None, 5)                 0         \n",
      "=================================================================\n",
      "Total params: 233,243\n",
      "Trainable params: 233,243\n",
      "Non-trainable params: 0\n",
      "_________________________________________________________________\n"
     ]
    }
   ],
   "source": [
    "from keras.models import Sequential\n",
    "from keras.layers import Dense, Input, Dropout, SimpleRNN,LSTM, Activation\n",
    "model =Sequential()\n",
    "model.add(LSTM(128, input_shape=(10,50), return_sequences=True))\n",
    "model.add(Dropout(0.5))\n",
    "model.add(LSTM(128, return_sequences=False))\n",
    "model.add(Dropout(0.5))\n",
    "model.add(Dense(64))\n",
    "model.add(Dense(25))\n",
    "model.add(Dense(5))\n",
    "model.add(Activation('softmax'))\n",
    "\n",
    "model.summary()"
   ]
  },
  {
   "cell_type": "code",
   "execution_count": 85,
   "metadata": {},
   "outputs": [],
   "source": [
    "model.compile(loss='categorical_crossentropy', optimizer='adam', metrics=['accuracy'])"
   ]
  },
  {
   "cell_type": "code",
   "execution_count": 86,
   "metadata": {},
   "outputs": [
    {
     "name": "stdout",
     "output_type": "stream",
     "text": [
      "Epoch 1/50\n",
      "5/5 [==============================] - 0s 27ms/step - loss: 1.5632 - accuracy: 0.2652\n",
      "Epoch 2/50\n",
      "5/5 [==============================] - 0s 26ms/step - loss: 1.4927 - accuracy: 0.3258\n",
      "Epoch 3/50\n",
      "5/5 [==============================] - 0s 26ms/step - loss: 1.3686 - accuracy: 0.4697\n",
      "Epoch 4/50\n",
      "5/5 [==============================] - 0s 26ms/step - loss: 1.2680 - accuracy: 0.5606\n",
      "Epoch 5/50\n",
      "5/5 [==============================] - 0s 26ms/step - loss: 1.1680 - accuracy: 0.5000\n",
      "Epoch 6/50\n",
      "5/5 [==============================] - 0s 27ms/step - loss: 1.0081 - accuracy: 0.5909\n",
      "Epoch 7/50\n",
      "5/5 [==============================] - 0s 26ms/step - loss: 0.9298 - accuracy: 0.6818\n",
      "Epoch 8/50\n",
      "5/5 [==============================] - 0s 26ms/step - loss: 0.7638 - accuracy: 0.7348\n",
      "Epoch 9/50\n",
      "5/5 [==============================] - 0s 26ms/step - loss: 0.6986 - accuracy: 0.7273\n",
      "Epoch 10/50\n",
      "5/5 [==============================] - 0s 27ms/step - loss: 0.7322 - accuracy: 0.7197\n",
      "Epoch 11/50\n",
      "5/5 [==============================] - 0s 27ms/step - loss: 0.5745 - accuracy: 0.7879\n",
      "Epoch 12/50\n",
      "5/5 [==============================] - 0s 25ms/step - loss: 0.4696 - accuracy: 0.8333\n",
      "Epoch 13/50\n",
      "5/5 [==============================] - 0s 24ms/step - loss: 0.4881 - accuracy: 0.8030\n",
      "Epoch 14/50\n",
      "5/5 [==============================] - 0s 26ms/step - loss: 0.4802 - accuracy: 0.8333\n",
      "Epoch 15/50\n",
      "5/5 [==============================] - 0s 28ms/step - loss: 0.3134 - accuracy: 0.9167\n",
      "Epoch 16/50\n",
      "5/5 [==============================] - 0s 27ms/step - loss: 0.3572 - accuracy: 0.8258\n",
      "Epoch 17/50\n",
      "5/5 [==============================] - 0s 27ms/step - loss: 0.3043 - accuracy: 0.8712 0s - loss: 0.3043 - accuracy: 0.87\n",
      "Epoch 18/50\n",
      "5/5 [==============================] - 0s 25ms/step - loss: 0.2885 - accuracy: 0.8939\n",
      "Epoch 19/50\n",
      "5/5 [==============================] - 0s 27ms/step - loss: 0.2359 - accuracy: 0.9091\n",
      "Epoch 20/50\n",
      "5/5 [==============================] - 0s 26ms/step - loss: 0.1822 - accuracy: 0.9394\n",
      "Epoch 21/50\n",
      "5/5 [==============================] - 0s 26ms/step - loss: 0.1681 - accuracy: 0.9394\n",
      "Epoch 22/50\n",
      "5/5 [==============================] - 0s 27ms/step - loss: 0.0991 - accuracy: 0.9848\n",
      "Epoch 23/50\n",
      "5/5 [==============================] - 0s 26ms/step - loss: 0.0912 - accuracy: 0.9773\n",
      "Epoch 24/50\n",
      "5/5 [==============================] - 0s 26ms/step - loss: 0.0733 - accuracy: 0.9773\n",
      "Epoch 25/50\n",
      "5/5 [==============================] - 0s 26ms/step - loss: 0.0599 - accuracy: 0.9848\n",
      "Epoch 26/50\n",
      "5/5 [==============================] - 0s 26ms/step - loss: 0.0617 - accuracy: 0.9848\n",
      "Epoch 27/50\n",
      "5/5 [==============================] - 0s 26ms/step - loss: 0.0430 - accuracy: 0.9924\n",
      "Epoch 28/50\n",
      "5/5 [==============================] - 0s 27ms/step - loss: 0.0267 - accuracy: 0.9924\n",
      "Epoch 29/50\n",
      "5/5 [==============================] - 0s 26ms/step - loss: 0.1114 - accuracy: 0.9545\n",
      "Epoch 30/50\n",
      "5/5 [==============================] - 0s 27ms/step - loss: 0.0695 - accuracy: 0.9621\n",
      "Epoch 31/50\n",
      "5/5 [==============================] - 0s 27ms/step - loss: 0.0303 - accuracy: 0.9848\n",
      "Epoch 32/50\n",
      "5/5 [==============================] - 0s 26ms/step - loss: 0.0471 - accuracy: 0.9848\n",
      "Epoch 33/50\n",
      "5/5 [==============================] - 0s 26ms/step - loss: 0.0686 - accuracy: 0.9773\n",
      "Epoch 34/50\n",
      "5/5 [==============================] - 0s 25ms/step - loss: 0.6294 - accuracy: 0.9015\n",
      "Epoch 35/50\n",
      "5/5 [==============================] - 0s 25ms/step - loss: 0.2519 - accuracy: 0.9015\n",
      "Epoch 36/50\n",
      "5/5 [==============================] - 0s 25ms/step - loss: 0.2655 - accuracy: 0.9318\n",
      "Epoch 37/50\n",
      "5/5 [==============================] - 0s 26ms/step - loss: 0.3622 - accuracy: 0.9015\n",
      "Epoch 38/50\n",
      "5/5 [==============================] - 0s 26ms/step - loss: 0.2033 - accuracy: 0.9242\n",
      "Epoch 39/50\n",
      "5/5 [==============================] - 0s 27ms/step - loss: 0.1197 - accuracy: 0.9697\n",
      "Epoch 40/50\n",
      "5/5 [==============================] - 0s 28ms/step - loss: 0.1818 - accuracy: 0.9167\n",
      "Epoch 41/50\n",
      "5/5 [==============================] - 0s 25ms/step - loss: 0.0987 - accuracy: 0.9773\n",
      "Epoch 42/50\n",
      "5/5 [==============================] - 0s 25ms/step - loss: 0.1325 - accuracy: 0.9697\n",
      "Epoch 43/50\n",
      "5/5 [==============================] - 0s 28ms/step - loss: 0.1180 - accuracy: 0.9545\n",
      "Epoch 44/50\n",
      "5/5 [==============================] - 0s 26ms/step - loss: 0.0664 - accuracy: 0.9773\n",
      "Epoch 45/50\n",
      "5/5 [==============================] - 0s 28ms/step - loss: 0.1375 - accuracy: 0.9470\n",
      "Epoch 46/50\n",
      "5/5 [==============================] - 0s 25ms/step - loss: 0.0627 - accuracy: 0.9773\n",
      "Epoch 47/50\n",
      "5/5 [==============================] - 0s 25ms/step - loss: 0.0903 - accuracy: 0.9773\n",
      "Epoch 48/50\n",
      "5/5 [==============================] - 0s 26ms/step - loss: 0.0456 - accuracy: 0.9848\n",
      "Epoch 49/50\n",
      "5/5 [==============================] - 0s 19ms/step - loss: 0.0270 - accuracy: 0.9924\n",
      "Epoch 50/50\n",
      "5/5 [==============================] - 0s 18ms/step - loss: 0.0174 - accuracy: 0.9924\n"
     ]
    }
   ],
   "source": [
    "hist = model.fit(embedded_input,input_y,epochs = 50, batch_size=32,shuffle=True)"
   ]
  },
  {
   "cell_type": "code",
   "execution_count": 87,
   "metadata": {},
   "outputs": [
    {
     "name": "stdout",
     "output_type": "stream",
     "text": [
      "{'loss': [1.5632376670837402, 1.4926676750183105, 1.368644118309021, 1.268004298210144, 1.1679552793502808, 1.00809645652771, 0.9298444986343384, 0.7638091444969177, 0.6985865831375122, 0.73222416639328, 0.5745124220848083, 0.4695809483528137, 0.48814231157302856, 0.48017382621765137, 0.31344401836395264, 0.3572009205818176, 0.30426380038261414, 0.2884674370288849, 0.23586727678775787, 0.18218740820884705, 0.168051615357399, 0.09907355904579163, 0.09119438380002975, 0.07325244694948196, 0.05993352457880974, 0.06174000725150108, 0.04296451434493065, 0.02673470973968506, 0.11141694337129593, 0.06946832686662674, 0.0303307194262743, 0.04710669815540314, 0.06858479976654053, 0.6294286847114563, 0.25189483165740967, 0.2655465006828308, 0.3622480630874634, 0.2032659500837326, 0.1197378933429718, 0.1818220317363739, 0.0986524447798729, 0.13246797025203705, 0.11795828491449356, 0.06637945771217346, 0.1374816745519638, 0.06267783045768738, 0.09027738124132156, 0.045585934072732925, 0.026961879804730415, 0.017354875802993774], 'accuracy': [0.2651515007019043, 0.32575756311416626, 0.469696968793869, 0.560606062412262, 0.5, 0.5909090638160706, 0.6818181872367859, 0.7348484992980957, 0.7272727489471436, 0.7196969985961914, 0.7878788113594055, 0.8333333134651184, 0.8030303120613098, 0.8333333134651184, 0.9166666865348816, 0.8257575631141663, 0.8712121248245239, 0.8939393758773804, 0.9090909361839294, 0.939393937587738, 0.939393937587738, 0.9848484992980957, 0.9772727489471436, 0.9772727489471436, 0.9848484992980957, 0.9848484992980957, 0.9924242496490479, 0.9924242496490479, 0.9545454382896423, 0.9621211886405945, 0.9848484992980957, 0.9848484992980957, 0.9772727489471436, 0.9015151262283325, 0.9015151262283325, 0.9318181872367859, 0.9015151262283325, 0.9242424368858337, 0.9696969985961914, 0.9166666865348816, 0.9772727489471436, 0.9696969985961914, 0.9545454382896423, 0.9772727489471436, 0.9469696879386902, 0.9772727489471436, 0.9772727489471436, 0.9848484992980957, 0.9924242496490479, 0.9924242496490479]}\n"
     ]
    }
   ],
   "source": [
    "print(hist.history)"
   ]
  },
  {
   "cell_type": "code",
   "execution_count": 88,
   "metadata": {},
   "outputs": [
    {
     "name": "stdout",
     "output_type": "stream",
     "text": [
      "56\n",
      "56\n",
      "2/2 [==============================] - 0s 5ms/step - loss: 1.5549 - accuracy: 0.6071\n",
      "[1.554923176765442, 0.6071428656578064]\n"
     ]
    }
   ],
   "source": [
    "print(len(X_test))\n",
    "print(len(Y_test))\n",
    "acc=model.evaluate(embedded_test,Y_test)\n",
    "print(acc)"
   ]
  },
  {
   "cell_type": "code",
   "execution_count": 89,
   "metadata": {},
   "outputs": [],
   "source": [
    "result=model.predict_classes(embedded_test)"
   ]
  },
  {
   "cell_type": "code",
   "execution_count": 90,
   "metadata": {},
   "outputs": [
    {
     "name": "stdout",
     "output_type": "stream",
     "text": [
      "[4 3 3 2 2 2 3 2 4 2 1 2 0 0 1 3 2 2 4 2 3 2 4 0 3 3 2 0 1 2 0 1 3 2 2 1 2\n",
      " 4 4 2 1 0 0 1 2 2 2 2 0 3 3 0 3 2 2 4]\n"
     ]
    }
   ],
   "source": [
    "print(result)"
   ]
  },
  {
   "cell_type": "code",
   "execution_count": 91,
   "metadata": {},
   "outputs": [
    {
     "name": "stdout",
     "output_type": "stream",
     "text": [
      "0 ❤\n",
      "1 ⚾\n",
      "2 😄\n",
      "3 😞\n",
      "4 🍴\n"
     ]
    }
   ],
   "source": [
    "import emoji\n",
    "emoji_dict = { 0 : \":heart:\", 1 : \":baseball:\", 2 : \":smile:\", 3 : \":disappointed:\", 4 : \":fork_and_knife:\"}\n",
    "for ix in emoji_dict.keys():\n",
    "    print (ix,end=\" \")\n",
    "    print (emoji.emojize(emoji_dict[ix], use_aliases=True))"
   ]
  },
  {
   "cell_type": "code",
   "execution_count": 92,
   "metadata": {},
   "outputs": [
    {
     "name": "stdout",
     "output_type": "stream",
     "text": [
      "0\n",
      "I want to eat\t 🍴 🍴\n",
      "1\n",
      "he did not answer\t 😞 😞\n",
      "2\n",
      "he got a raise\t 😞 😄\n",
      "3\n",
      "she got me a present\t 😄 ❤\n",
      "4\n",
      "ha ha ha it was so funny\t 😄 😄\n",
      "5\n",
      "he is a good friend\t 😄 ❤\n",
      "6\n",
      "I am upset\t 😞 ❤\n",
      "7\n",
      "We had such a lovely dinner tonight\t 😄 ❤\n",
      "8\n",
      "where is the food\t 🍴 🍴\n",
      "9\n",
      "Stop making this joke ha ha ha\t 😄 😄\n",
      "10\n",
      "where is the ball\t ⚾ ⚾\n",
      "11\n",
      "work is hard\t 😄 😞\n",
      "12\n",
      "This girl is messing with me\t ❤ 😞\n",
      "13\n",
      "are you serious ha ha\t ❤ 😄\n",
      "14\n",
      "Let us go play baseball\t ⚾ ⚾\n",
      "15\n",
      "This stupid grader is not working \t 😞 😞\n",
      "16\n",
      "work is horrible\t 😄 😞\n",
      "17\n",
      "Congratulation for having a baby\t 😄 😄\n",
      "18\n",
      "stop messing around\t 🍴 😞\n",
      "19\n",
      "any suggestions for dinner\t 😄 🍴\n",
      "20\n",
      "I love taking breaks\t 😞 ❤\n",
      "21\n",
      "you brighten my day\t 😄 😄\n",
      "22\n",
      "I boiled rice\t 🍴 🍴\n",
      "23\n",
      "she is a bully\t ❤ 😞\n",
      "24\n",
      "Why are you feeling bad\t 😞 😞\n",
      "25\n",
      "I am upset\t 😞 😞\n",
      "26\n",
      "I worked during my birthday\t 😄 😞\n",
      "27\n",
      "My grandmother is the love of my life\t ❤ ❤\n",
      "28\n",
      "enjoy your break\t ⚾ 😄\n",
      "29\n",
      "valentine day is near\t 😄 ❤\n",
      "30\n",
      "I miss you so much\t ❤ ❤\n",
      "31\n",
      "throw the ball\t ⚾ ⚾\n",
      "32\n",
      "My life is so boring\t 😞 😞\n",
      "33\n",
      "she said yes\t 😄 😄\n",
      "34\n",
      "will you be my valentine\t 😄 ❤\n",
      "35\n",
      "he can pitch really well\t ⚾ ⚾\n",
      "36\n",
      "dance with me\t 😄 😄\n",
      "37\n",
      "I am starving\t 🍴 🍴\n",
      "38\n",
      "See you at the restaurant\t 🍴 🍴\n",
      "39\n",
      "I like to laugh\t 😄 😄\n",
      "40\n",
      "I will go dance ⚾ 😄\n",
      "41\n",
      "I like your jacket \t ❤ 😄\n",
      "42\n",
      "i miss her\t ❤ ❤\n",
      "43\n",
      "what is your favorite baseball game\t ⚾ ⚾\n",
      "44\n",
      "Good job\t 😄 😄\n",
      "45\n",
      "I love to the stars and back\t 😄 ❤\n",
      "46\n",
      "What you did was awesome\t 😄 😄\n",
      "47\n",
      "ha ha ha lol\t 😄 😄\n",
      "48\n",
      "I want to joke\t ❤ 😄\n",
      "49\n",
      "go away\t 😞 😞\n",
      "50\n",
      "yesterday we lost again\t 😞 😞\n",
      "51\n",
      "family is all I have\t ❤ ❤\n",
      "52\n",
      "you are failing this exercise\t 😞 😞\n",
      "53\n",
      "Good joke\t 😄 😄\n",
      "54\n",
      "You totally deserve this prize\t 😄 😄\n",
      "55\n",
      "I did not have breakfast  🍴 😞\n"
     ]
    }
   ],
   "source": [
    "\n",
    "for ix in range(Y_test.shape[0]):\n",
    "    \n",
    "#     if pred[ix] != Y_test[ix]:\n",
    "        print(ix)\n",
    "        print (X_test[ix],end=\" \")\n",
    "        print (emoji.emojize(emoji_dict[result[ix]], use_aliases=True),end=\" \")\n",
    "        print (emoji.emojize(emoji_dict[tt[ix]], use_aliases=True))"
   ]
  },
  {
   "cell_type": "code",
   "execution_count": null,
   "metadata": {},
   "outputs": [],
   "source": []
  }
 ],
 "metadata": {
  "kernelspec": {
   "display_name": "Python 3",
   "language": "python",
   "name": "python3"
  },
  "language_info": {
   "codemirror_mode": {
    "name": "ipython",
    "version": 3
   },
   "file_extension": ".py",
   "mimetype": "text/x-python",
   "name": "python",
   "nbconvert_exporter": "python",
   "pygments_lexer": "ipython3",
   "version": "3.7.9"
  }
 },
 "nbformat": 4,
 "nbformat_minor": 4
}
