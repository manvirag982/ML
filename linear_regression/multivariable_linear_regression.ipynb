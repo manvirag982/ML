{
 "cells": [
  {
   "cell_type": "code",
   "execution_count": 1,
   "metadata": {},
   "outputs": [],
   "source": [
    "# predict the prices of houses. Suppose you are selling your house and you\n",
    "# want to know what a good market price would be.\n",
    "\n",
    "# Anubhav Gupta\n",
    "\n",
    "\n",
    "import numpy as np\n",
    "import pandas as pd\n",
    "import matplotlib.pyplot as plt"
   ]
  },
  {
   "cell_type": "code",
   "execution_count": 2,
   "metadata": {},
   "outputs": [
    {
     "data": {
      "text/html": [
       "<div>\n",
       "<style scoped>\n",
       "    .dataframe tbody tr th:only-of-type {\n",
       "        vertical-align: middle;\n",
       "    }\n",
       "\n",
       "    .dataframe tbody tr th {\n",
       "        vertical-align: top;\n",
       "    }\n",
       "\n",
       "    .dataframe thead th {\n",
       "        text-align: right;\n",
       "    }\n",
       "</style>\n",
       "<table border=\"1\" class=\"dataframe\">\n",
       "  <thead>\n",
       "    <tr style=\"text-align: right;\">\n",
       "      <th></th>\n",
       "      <th>Size</th>\n",
       "      <th>Bedrooms</th>\n",
       "      <th>Price</th>\n",
       "    </tr>\n",
       "  </thead>\n",
       "  <tbody>\n",
       "    <tr>\n",
       "      <th>0</th>\n",
       "      <td>2104</td>\n",
       "      <td>3</td>\n",
       "      <td>399900</td>\n",
       "    </tr>\n",
       "    <tr>\n",
       "      <th>1</th>\n",
       "      <td>1600</td>\n",
       "      <td>3</td>\n",
       "      <td>329900</td>\n",
       "    </tr>\n",
       "    <tr>\n",
       "      <th>2</th>\n",
       "      <td>2400</td>\n",
       "      <td>3</td>\n",
       "      <td>369000</td>\n",
       "    </tr>\n",
       "    <tr>\n",
       "      <th>3</th>\n",
       "      <td>1416</td>\n",
       "      <td>2</td>\n",
       "      <td>232000</td>\n",
       "    </tr>\n",
       "    <tr>\n",
       "      <th>4</th>\n",
       "      <td>3000</td>\n",
       "      <td>4</td>\n",
       "      <td>539900</td>\n",
       "    </tr>\n",
       "  </tbody>\n",
       "</table>\n",
       "</div>"
      ],
      "text/plain": [
       "   Size  Bedrooms   Price\n",
       "0  2104         3  399900\n",
       "1  1600         3  329900\n",
       "2  2400         3  369000\n",
       "3  1416         2  232000\n",
       "4  3000         4  539900"
      ]
     },
     "execution_count": 2,
     "metadata": {},
     "output_type": "execute_result"
    }
   ],
   "source": [
    "df=pd.read_csv('ex1data2.txt',names=['Size','Bedrooms','Price'])   # size bedrooms input, prices=y\n",
    "m=df.shape[0]\n",
    "n=df.shape[1]-1\n",
    "\n",
    "df.head()"
   ]
  },
  {
   "cell_type": "code",
   "execution_count": 3,
   "metadata": {},
   "outputs": [],
   "source": [
    "# not drawing since it will be 3d but multivariable can be greater than 3 so it's most of time"
   ]
  },
  {
   "cell_type": "code",
   "execution_count": 4,
   "metadata": {},
   "outputs": [],
   "source": [
    "def normalize(x,y):\n",
    "    \n",
    "    m_x=np.mean(x,axis=0)\n",
    "    m_y=np.mean(y,axis=0)\n",
    "    s_x=np.std(x,axis=0)\n",
    "    s_y=np.std(y,axis=0)\n",
    "    x=(x-m_x)/s_x\n",
    "    y=(y-m_y)/s_y\n",
    "    return x,y\n",
    "    "
   ]
  },
  {
   "cell_type": "code",
   "execution_count": 5,
   "metadata": {},
   "outputs": [],
   "source": [
    "def compute_cost(x,theta,y):\n",
    "    \n",
    "    heur=np.dot(x,theta)\n",
    "    diff=heur-y\n",
    "    diff=diff**2\n",
    "    diff=diff/m\n",
    "    return np.sum(diff)\n",
    "    "
   ]
  },
  {
   "cell_type": "code",
   "execution_count": 6,
   "metadata": {},
   "outputs": [],
   "source": [
    "def gradient(theta,x,y):# required for bfgs\n",
    "    \n",
    "    theta = reshape(theta,(n,1))\n",
    "    pred = dot(x,theta)\n",
    "    grad = dot(x.T,pred-y)/m\n",
    "    return grad.flatten()\n",
    "    "
   ]
  },
  {
   "cell_type": "code",
   "execution_count": 7,
   "metadata": {},
   "outputs": [],
   "source": [
    "def prediction(x,theta):\n",
    "    \n",
    "    return theta[0][0]+np.dot(x,theta[1:x.shape[1]+1,0])"
   ]
  },
  {
   "cell_type": "code",
   "execution_count": 8,
   "metadata": {},
   "outputs": [],
   "source": [
    "# here we are using advanced algorithm of gradient_descent (bfgs)\n",
    "#  so we will use scipy\n",
    "J=[]\n",
    "def gradient_descent(iteration,x,y,theta,alpha):\n",
    "    \n",
    "    m=x.shape[0]\n",
    "    for i in range(iteration):\n",
    "        \n",
    "        heur=x@theta\n",
    "        dc=  x.T @ (heur-y)\n",
    "        theta=theta-(alpha/m)*dc\n",
    "        J.append(compute_cost(x,theta,y))\n",
    "    return theta,J\n",
    "    "
   ]
  },
  {
   "cell_type": "code",
   "execution_count": 9,
   "metadata": {},
   "outputs": [
    {
     "name": "stdout",
     "output_type": "stream",
     "text": [
      "[[ 1.31415422e-01 -2.26093368e-01]\n",
      " [-5.09640698e-01 -2.26093368e-01]\n",
      " [ 5.07908699e-01 -2.26093368e-01]\n",
      " [-7.43677059e-01 -1.55439190e+00]\n",
      " [ 1.27107075e+00  1.10220517e+00]\n",
      " [-1.99450507e-02  1.10220517e+00]\n",
      " [-5.93588523e-01 -2.26093368e-01]\n",
      " [-7.29685755e-01 -2.26093368e-01]\n",
      " [-7.89466782e-01 -2.26093368e-01]\n",
      " [-6.44465993e-01 -2.26093368e-01]\n",
      " [-7.71822042e-02  1.10220517e+00]\n",
      " [-8.65999486e-04 -2.26093368e-01]\n",
      " [-1.40779041e-01 -2.26093368e-01]\n",
      " [ 3.15099326e+00  2.43050370e+00]\n",
      " [-9.31923697e-01 -2.26093368e-01]\n",
      " [ 3.80715024e-01  1.10220517e+00]\n",
      " [-8.65782986e-01 -1.55439190e+00]\n",
      " [-9.72625673e-01 -2.26093368e-01]\n",
      " [ 7.73743478e-01  1.10220517e+00]\n",
      " [ 1.31050078e+00  1.10220517e+00]\n",
      " [-2.97227261e-01 -2.26093368e-01]\n",
      " [-1.43322915e-01 -1.55439190e+00]\n",
      " [-5.04552951e-01 -2.26093368e-01]\n",
      " [-4.91995958e-02  1.10220517e+00]\n",
      " [ 2.40309445e+00 -2.26093368e-01]\n",
      " [-1.14560907e+00 -2.26093368e-01]\n",
      " [-6.90255715e-01 -2.26093368e-01]\n",
      " [ 6.68172729e-01 -2.26093368e-01]\n",
      " [ 2.53521350e-01 -2.26093368e-01]\n",
      " [ 8.09357707e-01 -2.26093368e-01]\n",
      " [-2.05647815e-01 -1.55439190e+00]\n",
      " [-1.27280274e+00 -2.88269044e+00]\n",
      " [ 5.00114703e-02  1.10220517e+00]\n",
      " [ 1.44532608e+00 -2.26093368e-01]\n",
      " [-2.41262044e-01  1.10220517e+00]\n",
      " [-7.16966387e-01 -2.26093368e-01]\n",
      " [-9.68809863e-01 -2.26093368e-01]\n",
      " [ 1.67029651e-01  1.10220517e+00]\n",
      " [ 2.81647389e+00  1.10220517e+00]\n",
      " [ 2.05187753e-01  1.10220517e+00]\n",
      " [-4.28236746e-01 -1.55439190e+00]\n",
      " [ 3.01854946e-01 -2.26093368e-01]\n",
      " [ 7.20322135e-01  1.10220517e+00]\n",
      " [-1.01841540e+00 -2.26093368e-01]\n",
      " [-1.46104938e+00 -1.55439190e+00]\n",
      " [-1.89112638e-01  1.10220517e+00]\n",
      " [-1.01459959e+00 -2.26093368e-01]] [[ 0.48089023]\n",
      " [-0.08498338]\n",
      " [ 0.23109745]\n",
      " [-0.87639804]\n",
      " [ 1.61263744]\n",
      " [-0.32750064]\n",
      " [-0.20624201]\n",
      " [-1.1431751 ]\n",
      " [-1.03807621]\n",
      " [-0.791517  ]\n",
      " [-0.81173485]\n",
      " [ 0.05325146]\n",
      " [-0.08418307]\n",
      " [ 2.90606282]\n",
      " [-0.65085698]\n",
      " [ 0.88508566]\n",
      " [-0.32750064]\n",
      " [-1.1358915 ]\n",
      " [ 1.29007331]\n",
      " [ 2.09039644]\n",
      " [-0.70744435]\n",
      " [-0.69046814]\n",
      " [-0.78828343]\n",
      " [-0.65085698]\n",
      " [ 1.88749033]\n",
      " [-0.73169607]\n",
      " [ 1.00311072]\n",
      " [ 1.03948831]\n",
      " [ 1.08799176]\n",
      " [-0.32750064]\n",
      " [ 0.07669479]\n",
      " [-1.37840876]\n",
      " [-0.20624201]\n",
      " [ 1.93599378]\n",
      " [-0.44067536]\n",
      " [-0.73169607]\n",
      " [-0.89337424]\n",
      " [ 0.03708364]\n",
      " [ 1.686201  ]\n",
      " [-0.43178306]\n",
      " [ 0.22705549]\n",
      " [-0.08498338]\n",
      " [-0.21351753]\n",
      " [-0.33477616]\n",
      " [-1.29756968]\n",
      " [-0.32750064]\n",
      " [-0.81576872]]\n",
      "(47, 3) (47, 1) (3, 1)\n"
     ]
    }
   ],
   "source": [
    "#  initialising required variable\n",
    "\n",
    "\n",
    "#  m, n, theta, adding 1 to x\n",
    "np_data=df.values\n",
    "theta=np.zeros((n+1,1))\n",
    "x=np_data[:,0:2]\n",
    "y=np_data[:,2].reshape((m,1))\n",
    "x,y=normalize(x,y)\n",
    "print(x,y)\n",
    "temp=np.ones((m,1))\n",
    "x=np.hstack((temp,x))\n",
    "print(x.shape,y.shape,theta.shape)"
   ]
  },
  {
   "cell_type": "code",
   "execution_count": 10,
   "metadata": {},
   "outputs": [
    {
     "data": {
      "image/png": "[encoded data removed]",
      "text/plain": [
       "<Figure size 432x288 with 1 Axes>"
      ]
     },
     "metadata": {
      "needs_background": "light"
     },
     "output_type": "display_data"
    }
   ],
   "source": [
    "theta,J_values=gradient_descent(500,x,y,theta,0.01)\n",
    "plt.plot(J_values)\n",
    "plt.show()"
   ]
  },
  {
   "cell_type": "code",
   "execution_count": null,
   "metadata": {},
   "outputs": [],
   "source": []
  },
  {
   "cell_type": "code",
   "execution_count": null,
   "metadata": {},
   "outputs": [],
   "source": []
  }
 ],
 "metadata": {
  "kernelspec": {
   "display_name": "Python 3",
   "language": "python",
   "name": "python3"
  },
  "language_info": {
   "codemirror_mode": {
    "name": "ipython",
    "version": 3
   },
   "file_extension": ".py",
   "mimetype": "text/x-python",
   "name": "python",
   "nbconvert_exporter": "python",
   "pygments_lexer": "ipython3",
   "version": "3.8.1"
  }
 },
 "nbformat": 4,
 "nbformat_minor": 4
}
