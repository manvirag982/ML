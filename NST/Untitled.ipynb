{
 "cells": [
  {
   "cell_type": "code",
   "execution_count": 47,
   "metadata": {},
   "outputs": [],
   "source": [
    "import scipy.io\n",
    "import scipy.misc\n",
    "import matplotlib.pyplot as plt\n",
    "from matplotlib.pyplot import imshow\n",
    "import numpy as np\n",
    "# import tensorflow as tf\n",
    "import tensorflow.compat.v1 as tf   # this line is using so that can use precious version function so we need not to shift to previous versoin\n",
    "tf.disable_v2_behavior()\n",
    "# https://www.analyticsvidhya.com/blog/2020/10/introduction-and-implementation-to-neural-style-transfer-deep-learning/\n",
    "%matplotlib inline\n"
   ]
  },
  {
   "cell_type": "code",
   "execution_count": 48,
   "metadata": {},
   "outputs": [],
   "source": [
    "path=\"pretrained-model/imagenet-vgg-verydeep-19.mat\"\n",
    "vgg = scipy.io.loadmat(path)"
   ]
  },
  {
   "cell_type": "code",
   "execution_count": 49,
   "metadata": {},
   "outputs": [
    {
     "name": "stdout",
     "output_type": "stream",
     "text": [
      "<class 'dict'>\n"
     ]
    }
   ],
   "source": [
    "print(type(vgg))"
   ]
  },
  {
   "cell_type": "code",
   "execution_count": 50,
   "metadata": {},
   "outputs": [
    {
     "name": "stdout",
     "output_type": "stream",
     "text": [
      "dict_keys(['__header__', '__version__', '__globals__', 'layers', 'meta'])\n"
     ]
    }
   ],
   "source": [
    "print(vgg.keys())"
   ]
  },
  {
   "cell_type": "code",
   "execution_count": 51,
   "metadata": {},
   "outputs": [
    {
     "name": "stdout",
     "output_type": "stream",
     "text": [
      "b'MATLAB 5.0 MAT-file, Platform: GLNXA64, Created on: Fri Sep 30 08:35:35 2016'\n"
     ]
    }
   ],
   "source": [
    "print(vgg['__header__'])"
   ]
  },
  {
   "cell_type": "code",
   "execution_count": 52,
   "metadata": {},
   "outputs": [],
   "source": [
    "# print(vgg['layers'])"
   ]
  },
  {
   "cell_type": "code",
   "execution_count": 53,
   "metadata": {},
   "outputs": [],
   "source": [
    "# only have to deal with vgg['layers']\n",
    "vgg_l=vgg['layers']"
   ]
  },
  {
   "cell_type": "code",
   "execution_count": 54,
   "metadata": {},
   "outputs": [
    {
     "name": "stdout",
     "output_type": "stream",
     "text": [
      "<class 'numpy.ndarray'>\n",
      "(1, 43)\n"
     ]
    }
   ],
   "source": [
    "print(type(vgg_l))\n",
    "print(vgg_l.shape)"
   ]
  },
  {
   "cell_type": "code",
   "execution_count": 70,
   "metadata": {},
   "outputs": [
    {
     "name": "stdout",
     "output_type": "stream",
     "text": [
      "[[1 1 1 1]]\n",
      "[[1 1]]\n",
      "[[0]]\n",
      "[[1]]\n",
      "[]\n"
     ]
    }
   ],
   "source": [
    "# https://programmersought.com/article/11411093826/\n",
    "# print(vgg_l[0][0][0][0][0])   #layer_name       \n",
    "# print(vgg_l[0][0][0][0][1])    # layer_type\n",
    "# print(vgg_l[0][0][0][0][2])  # w, b\n",
    "# print(vgg_l[0][0][0][0][2][0][0].shape) # w  (3,3,3,64) (height,width,3d image, no. of filters)\n",
    "# print(vgg_l[0][0][0][0][3][0][1])  #  b single value\n",
    "print(vgg_l[0][0][0][0][4])    # might pad     \n",
    "print(vgg_l[0][0][0][0][5])     # might stride\n",
    "print(vgg_l[0][0][0][0][6])      \n",
    "print(vgg_l[0][0][0][0][7])\n",
    "print(vgg_l[0][0][0][0][8])      # empty\n",
    "# print(vgg_l[0][0][0][0][9])   out of index\n"
   ]
  },
  {
   "cell_type": "code",
   "execution_count": 71,
   "metadata": {},
   "outputs": [
    {
     "name": "stdout",
     "output_type": "stream",
     "text": [
      "['relu1_1']\n",
      "['relu']\n",
      "[[0]]\n",
      "[[0]]\n"
     ]
    }
   ],
   "source": [
    "print(vgg_l[0][1][0][0][0])   #layer _name      (fixed, layer(0-42),zero,zero,(layer_name,layer,(w,b),))\n",
    "print(vgg_l[0][1][0][0][1])   #layer type\n",
    "print(vgg_l[0][1][0][0][2])  # w, b\n",
    "# print(vgg_l[0][1][0][0][2][0][0].shape) # w  (3,3,3,64) (height,width,3d image, no. of filters)\n",
    "# print(vgg_l[0][1][0][0][3][0][1])  #  b single value\n",
    "print(vgg_l[0][1][0][0][4])         \n",
    "# print(vgg_l[0][1][0][0][5])   out of bound since relu\n",
    "# print(vgg_l[0][1][0][0][6])\n",
    "# print(vgg_l[0][1][0][0][7])\n",
    "# print(vgg_l[0][1][0][0][8])\n",
    "# print(vgg_l[0][1][0][0][9])   "
   ]
  },
  {
   "cell_type": "code",
   "execution_count": 75,
   "metadata": {},
   "outputs": [
    {
     "name": "stdout",
     "output_type": "stream",
     "text": [
      "['conv1_2']\n",
      "['conv']\n",
      "(3, 3, 64, 64)\n",
      "3\n",
      "[[1 1 1 1]]\n",
      "[[1 1]]\n",
      "[[0]]\n",
      "[[1]]\n",
      "[]\n"
     ]
    }
   ],
   "source": [
    "# https://programmersought.com/article/11411093826/\n",
    "print(vgg_l[0][2][0][0][0])   #layer_name    (con1_2)    \n",
    "print(vgg_l[0][2][0][0][1])    # layer_type  (conv)\n",
    "# print(vgg_l[0][2][0][0][2])  # w, b\n",
    "print(vgg_l[0][2][0][0][2][0][0].shape) # w  (3,3,64,64) (height,width,3d image, no. of filters) because before this im size=x,y,64\n",
    "print(vgg_l[0][2][0][0][3][0][1])  #  b single value\n",
    "print(vgg_l[0][2][0][0][4])         \n",
    "print(vgg_l[0][2][0][0][5])\n",
    "print(vgg_l[0][2][0][0][6])\n",
    "print(vgg_l[0][2][0][0][7])\n",
    "print(vgg_l[0][2][0][0][8])\n",
    "# print(vgg_l[0][0][0][0][9])   out of index"
   ]
  },
  {
   "cell_type": "code",
   "execution_count": null,
   "metadata": {},
   "outputs": [],
   "source": []
  }
 ],
 "metadata": {
  "kernelspec": {
   "display_name": "Python 3",
   "language": "python",
   "name": "python3"
  },
  "language_info": {
   "codemirror_mode": {
    "name": "ipython",
    "version": 3
   },
   "file_extension": ".py",
   "mimetype": "text/x-python",
   "name": "python",
   "nbconvert_exporter": "python",
   "pygments_lexer": "ipython3",
   "version": "3.7.0"
  }
 },
 "nbformat": 4,
 "nbformat_minor": 4
}
