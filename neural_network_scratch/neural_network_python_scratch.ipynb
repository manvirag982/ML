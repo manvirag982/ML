{
 "cells": [
  {
   "cell_type": "code",
   "execution_count": 27,
   "metadata": {},
   "outputs": [],
   "source": [
    "# We will first see the result with logistic regression (just do with sklearn)\n",
    "# then we will do the neural network then will seee the result\n",
    "# Anubhav gupta\n",
    "\n",
    "import numpy as np\n",
    "import pandas as pd\n",
    "import matplotlib.pyplot as plt\n",
    "# from matplotlib import style"
   ]
  },
  {
   "cell_type": "markdown",
   "metadata": {},
   "source": [
    "# Dataset\n",
    "\n",
    "Generating a dataset\n",
    "Let's start by generating a dataset we can play with.\n",
    "Fortunately, scikit-learn has some useful dataset generators, so we don't need to write the code ourselves.\n",
    "We will go with the make_moons function."
   ]
  },
  {
   "cell_type": "code",
   "execution_count": 28,
   "metadata": {},
   "outputs": [
    {
     "name": "stdout",
     "output_type": "stream",
     "text": [
      "(200, 2)\n",
      "(200,)\n"
     ]
    },
    {
     "data": {
      "image/png": "[encoded data removed]",
      "text/plain": [
       "<Figure size 432x288 with 1 Axes>"
      ]
     },
     "metadata": {
      "needs_background": "light"
     },
     "output_type": "display_data"
    }
   ],
   "source": [
    "import sklearn\n",
    "import sklearn.datasets\n",
    "\n",
    "# np.random.seed(0)\n",
    "x, y = sklearn.datasets.make_moons(200, noise=0.2,shuffle=True)   # if we increase the noise interference will increase\n",
    "# x,y=normalize(x,y)\n",
    "print(x.shape)\n",
    "print(y.shape)\n",
    "\n",
    "pos_one= (y==1).reshape((200,1)) \n",
    "pos_zero=(y==0).reshape((200,1))\n",
    "m=len(y)\n",
    "# style.use('seaborn')\n",
    "plt.scatter(x[pos_one[:,0],0],x[pos_one[:,0],1],color='y',marker='+',linewidth=4)\n",
    "plt.scatter(x[pos_zero[:,0],0],x[pos_zero[:,0],1],color='r',marker='o',linewidth=1)\n",
    "# plt.legend([\"type_1\",\"type_2\"])\n",
    "# sb.scatterplot(x[pos_one[:,0],0],x[pos_one[:,0],1])\n",
    "# sb.scatterplot(data=df, x=\"Subject 1\", y=\"Subject 2\")\n",
    "plt.show()"
   ]
  },
  {
   "cell_type": "code",
   "execution_count": 29,
   "metadata": {},
   "outputs": [],
   "source": [
    "# copied but understandable\n",
    "\n",
    "def plot_decision_boundary(pred_func):\n",
    "    \n",
    "    x_min, x_max = x[:, 0].min() - .5, x[:, 0].max() + .5\n",
    "    y_min, y_max = x[:, 1].min() - .5, x[:, 1].max() + .5\n",
    "    \n",
    "    h =.01\n",
    "    \n",
    "#     print(pred_func)\n",
    "    xx, yy = np.meshgrid(np.arange(x_min, x_max, h), np.arange(y_min, y_max, h))\n",
    "#     print(xx.shape)\n",
    "#     print(yy.shape)\n",
    "    \n",
    "    \n",
    "#     np.c_[np.array([1,2,3]), np.array([4,5,6])]\n",
    "#     array([[1, 4],\n",
    "#        [2, 5],\n",
    "#        [3, 6]])\n",
    "#     np.c_[np.array([[1,2,3]]), 0, 0, np.array([[4,5,6]])]\n",
    "#     array([[1, 2, 3, ..., 4, 5, 6]])\n",
    "    Z = pred_func(np.c_[xx.ravel(), yy.ravel()])\n",
    "#     print(Z.shape)\n",
    "    Z = Z.reshape(xx.shape)\n",
    "    \n",
    "#     print(Z.shape)\n",
    "    \n",
    "#     print(Z)\n",
    "    plt.contourf(xx,yy,Z)\n",
    "    plt.scatter(x[pos_one[:,0],0],x[pos_one[:,0],1],color='b',marker='+',linewidth=4)\n",
    "    plt.scatter(x[pos_zero[:,0],0],x[pos_zero[:,0],1],color='w',marker='o',linewidth=1)\n",
    "    plt.title(\"Logistic Regression\")\n",
    "    plt.show()\n",
    "#     plt.legend([\"type_1\",\"type_2\"])\n",
    "    "
   ]
  },
  {
   "cell_type": "code",
   "execution_count": 30,
   "metadata": {},
   "outputs": [
    {
     "name": "stdout",
     "output_type": "stream",
     "text": [
      "[1 1 1 0 0 1 1 0 1 0 1 0 0 1 1 1 1 0 1 0 0 1 1 0 1 1 0 1 1 0 0 1 0 0 0 0 0\n",
      " 1 1 1 1 1 1 0 1 1 0 0 1 1 0 0 0 1 0 1 1 0 0 0 0 1 1 1 0 0 1 1 0 0 1 1 0 0\n",
      " 1 1 0 1 0 0 0 1 0 0 0 1 1 1 1 0 1 1 1 0 0 0 0 0 0 1 1 1 0 0 1 0 1 0 1 1 1\n",
      " 0 0 0 0 1 0 0 1 0 0 1 0 0 0 0 0 1 1 1 0 1 1 1 0 1 0 1 1 1 1 0 1 1 1 1 0 0\n",
      " 0 0 0 1 1 0 1 0 0 1 1 1 0 1 0 0 0 1 1 0 1 0 1 1 1 1 0 1 0 1 1 1 1 1 0 0 0\n",
      " 1 0 1 0 0 0 0 1 0 0 0 1 0 1 0]\n",
      "(200,)\n"
     ]
    },
    {
     "data": {
      "image/png": "[encoded data removed]",
      "text/plain": [
       "<Figure size 432x288 with 1 Axes>"
      ]
     },
     "metadata": {
      "needs_background": "light"
     },
     "output_type": "display_data"
    }
   ],
   "source": [
    "# now we will see that if we apply logistic regression what will be the decision boundary \n",
    "\n",
    "import sklearn.linear_model\n",
    "clf = sklearn.linear_model.LogisticRegressionCV()\n",
    "clf.fit(x, y)\n",
    "zz=clf.predict(x)\n",
    "print(zz)\n",
    "print(zz.shape)\n",
    "plot_decision_boundary(lambda x:clf.predict(x))\n"
   ]
  },
  {
   "cell_type": "code",
   "execution_count": 31,
   "metadata": {},
   "outputs": [
    {
     "name": "stdout",
     "output_type": "stream",
     "text": [
      "[2, 3, 2]\n"
     ]
    }
   ],
   "source": [
    "# now we will implement neural network from scratch and see the difference\n",
    "layer_dims=[x.shape[1],3,x.shape[1]]  # can b vary a/c to architecture\n",
    "print(layer_dims)\n",
    "lenn=3\n",
    "y=y.reshape((200,1))\n",
    "\n",
    "def normalize(x,y):\n",
    "    \n",
    "    m_x=np.mean(x)\n",
    "    m_y=np.mean(y)\n",
    "    s_x=np.std(x)\n",
    "    s_y=np.std(y)\n",
    "    x=(x-m_x)/s_x\n",
    "    y=(y-m_y)/s_y\n",
    "    return x,y"
   ]
  },
  {
   "cell_type": "code",
   "execution_count": 32,
   "metadata": {},
   "outputs": [],
   "source": [
    "def initialize_parameter_deep(layer_dims):\n",
    "    \n",
    "    parameters={}\n",
    "    sz=len(layer_dims)\n",
    "    for i in range(1,sz):\n",
    "        parameters['w'+str(i)]=np.random.randn(layer_dims[i-1],layer_dims[i])*.01#/np.sqrt(layer_dims[i-1])\n",
    "        parameters['b'+str(i)]=np.zeros((1,layer_dims[i]))  # 2==no. of feature\n",
    "        \n",
    "#         print(parameters['w'+str(i)].shape,parameters['b'+str(i)].shape)\n",
    "#     print('initial')\n",
    "    return parameters\n",
    "parameters=initialize_parameter_deep(layer_dims)        "
   ]
  },
  {
   "cell_type": "code",
   "execution_count": 33,
   "metadata": {},
   "outputs": [],
   "source": [
    "def sigmoid(z):\n",
    "    return 1/(1+np.exp(-1*z))\n",
    "#     return np.tanh(z)              # can use any but accordingly we'll have to change cost function\n",
    "\n",
    "def compute_cost(parameters):\n",
    "    \n",
    "    As,Zs=forward_prop(x,parameters)\n",
    "    Al=As['A'+str(lenn-1)]\n",
    "#     print(Al)\n",
    "#     print(Al.shape)\n",
    "#     corect_logprobs = -np.log(Al[range(len(x)), y.reshape((200,))])   # this is cost function for tanh\n",
    "#     print(corect_logprobs)\n",
    "#     print(corect_logprobs.shape)\n",
    "    Al[range(0,len(x)),y.reshape(200,)]-=1                # for general but after calculate heuristic function\n",
    "    \n",
    "    cost=Al\n",
    "    cost=cost**2\n",
    "    data_loss=np.sum(cost)\n",
    "#     data_loss = np.sum(corect_logprobs)\n",
    "#     print(data_loss)\n",
    "    # Add regulatization term to loss (optional)\n",
    "#     data_loss += reg_lambda/2 * (np.sum(np.square(W1)) + np.sum(np.square(W2)))\n",
    "    return  data_loss/(len(x))\n",
    "\n"
   ]
  },
  {
   "cell_type": "code",
   "execution_count": 34,
   "metadata": {},
   "outputs": [],
   "source": [
    "def forward_prop(x,parameters):\n",
    "    \n",
    "    l=len(layer_dims)\n",
    "    #  using sigmoid in all\n",
    "    As={}\n",
    "    Zs={}\n",
    "    As['A0']=x\n",
    "    for i in range(1,l): \n",
    "        \n",
    "        Z=As['A'+str(i-1)]@parameters['w'+str(i)]+parameters['b'+str(i)]    # unit[l]*n   m*2 , layer[i-1]*layer[i], 1*layer[i]\n",
    "        Zs['Z'+str(i)]=Z\n",
    "        A=sigmoid(Z)\n",
    "        As['A'+str(i)]=A\n",
    "#         print(Z.shape,A.shape)\n",
    "    # below is softmax with probability function                    #this can also be used\n",
    "#     exp_scores = np.exp(Zs['Z'+str(lenn-1)])\n",
    "#     As['A'+str(lenn-1)] = exp_scores / np.sum(exp_scores, axis=1, keepdims=True)\n",
    "    As['A'+str(lenn-1)]=(As['A'+str(lenn-1)]>0.5) * 1  \n",
    "#     print('forward')\n",
    "        \n",
    "    return As,Zs    "
   ]
  },
  {
   "cell_type": "code",
   "execution_count": 35,
   "metadata": {},
   "outputs": [],
   "source": [
    "def backward_prop(As,Zs,parameters,y,x,n_h):\n",
    "    \n",
    "    grad={}\n",
    "    \n",
    "    l=lenn\n",
    "    dZy=As['A'+str(l-1)]\n",
    "#     print('aaaa')\n",
    "#     print(dZy)\n",
    "    \n",
    "    yy=y.reshape((200,))\n",
    "#     print(yy)\n",
    " \n",
    "    dZy[range(len(x)), yy] -= 1\n",
    "#     print(dZy.shape,As['A'+str(l-2)].shape)\n",
    "#     print(dZy)\n",
    "    dWy=(As['A'+str(l-2)].T  @ dZy )\n",
    "#     print(dWy.shape)\n",
    "    dBy=np.sum(dZy,axis=0,keepdims=True)\n",
    "#     print(dBy.shape)\n",
    "    grad['dW'+str(l-1)]=dWy\n",
    "    grad['dB'+str(l-1)]=dBy\n",
    "\n",
    "    \n",
    "    for i in range(l-2,0,-1):\n",
    "        \n",
    "#         print(parameters['w'+str(i+1)].shape)\n",
    "        dZy = (  dZy @ parameters['w'+str(i+1)].T)* (As['A'+str(i)]*(1-As['A'+str(i)]))#(1 - np.power(As['A'+str(i)],2) )\n",
    "        dW =  As['A'+str(i-1)].T  @ dZy\n",
    "        db =  np.sum(dZy, axis=0, keepdims=True)\n",
    "#         print(dZy.shape,dW.shape,db.shape)\n",
    "        \n",
    "        grad['dW'+str(i)]=dW\n",
    "        grad['dB'+str(i)]=db\n",
    "    \n",
    "        \n",
    "    \n",
    "    return grad\n",
    "    \n",
    "    "
   ]
  },
  {
   "cell_type": "code",
   "execution_count": 36,
   "metadata": {},
   "outputs": [],
   "source": [
    "def update_parameters(grad,parameters,learning_rate):\n",
    "    \n",
    "    \n",
    "    for i in range(1,lenn):\n",
    "        \n",
    "        \n",
    "        parameters['w'+str(i)]=parameters['w'+str(i)]-learning_rate*grad['dW'+str(i)]\n",
    "        parameters['b'+str(i)]=parameters['b'+str(i)]-learning_rate*grad['dB'+str(i)]\n",
    "    \n",
    "    return parameters\n",
    "        \n",
    "        \n",
    "    "
   ]
  },
  {
   "cell_type": "code",
   "execution_count": 37,
   "metadata": {},
   "outputs": [],
   "source": [
    "def main_loop(x,y,n_h,iteration,parameters,print_cost=True):\n",
    "    \n",
    "    \n",
    "    for i in range(iteration):\n",
    "        \n",
    "        As,Zs=forward_prop(x,parameters)   # using all sigmoid\n",
    "#         print(As,Zs)\n",
    "#         if i==0 :\n",
    "#             print(Zs['Z1'],As['A1'],Zs['Z2'],As['A2'])\n",
    "        \n",
    "        \n",
    "        \n",
    "#         print(As['A'+str(lenn-1)])\n",
    "        \n",
    "#         print(cost.shape)\n",
    "#         print('cost')\n",
    "        \n",
    "        grad=backward_prop(As,Zs,parameters,y,x,n_h)\n",
    "#         print(grad)\n",
    "        parameters=update_parameters(grad,parameters,.01)\n",
    "#         print(parameters)\n",
    "        cost=compute_cost(parameters)\n",
    "        if i%1000==0:\n",
    "            print(\"cost {} iteration {}\".format(cost,i))\n",
    "        \n",
    "        "
   ]
  },
  {
   "cell_type": "code",
   "execution_count": 38,
   "metadata": {},
   "outputs": [],
   "source": [
    "def prediction(x):\n",
    "    \n",
    "    A,Z=forward_prop(x,parameters)\n",
    "    \n",
    "    print(parameters)\n",
    "    temp=A['A'+str(lenn-1)]\n",
    "    \n",
    "#     print(temp.shape)\n",
    "    print(temp)\n",
    "    \n",
    "#     print(prob)\n",
    "\n",
    "    res=np.argmax(temp,axis=1)\n",
    "    \n",
    "    return res\n",
    "\n",
    "    \n",
    "    \n",
    "    \n",
    "    "
   ]
  },
  {
   "cell_type": "code",
   "execution_count": 41,
   "metadata": {},
   "outputs": [
    {
     "name": "stdout",
     "output_type": "stream",
     "text": [
      "cost 0.1 iteration 0\n",
      "cost 0.085 iteration 1000\n",
      "cost 0.06 iteration 2000\n",
      "cost 0.06 iteration 3000\n",
      "cost 0.08 iteration 4000\n",
      "{'w1': array([[-6.77324517,  5.51324582, -6.53134766],\n",
      "       [-0.85880528, -7.25794422, -4.25286221]]), 'b1': array([[-3.06290432, -9.71904994,  0.26490329]]), 'w2': array([[ 2.93646289, -2.91841195],\n",
      "       [-2.37698893,  2.37146005],\n",
      "       [-1.73542055,  1.72609637]]), 'b2': array([[ 0.05, -0.05]])}\n",
      "[[1 0]\n",
      " [1 0]\n",
      " [1 0]\n",
      " ...\n",
      " [1 0]\n",
      " [1 0]\n",
      " [1 0]]\n"
     ]
    },
    {
     "data": {
      "image/png": "[encoded data removed]",
      "text/plain": [
       "<Figure size 432x288 with 1 Axes>"
      ]
     },
     "metadata": {
      "needs_background": "light"
     },
     "output_type": "display_data"
    }
   ],
   "source": [
    "\n",
    "# print(parameters)\n",
    "main_loop(x,y,3,5000,parameters)\n",
    "plot_decision_boundary(lambda x:prediction(x))\n",
    "# print(x)"
   ]
  },
  {
   "cell_type": "code",
   "execution_count": null,
   "metadata": {},
   "outputs": [],
   "source": []
  }
 ],
 "metadata": {
  "kernelspec": {
   "display_name": "Python 3",
   "language": "python",
   "name": "python3"
  },
  "language_info": {
   "codemirror_mode": {
    "name": "ipython",
    "version": 3
   },
   "file_extension": ".py",
   "mimetype": "text/x-python",
   "name": "python",
   "nbconvert_exporter": "python",
   "pygments_lexer": "ipython3",
   "version": "3.8.1"
  }
 },
 "nbformat": 4,
 "nbformat_minor": 4
}
