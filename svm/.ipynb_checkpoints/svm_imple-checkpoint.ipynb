{
 "cells": [
  {
   "cell_type": "markdown",
   "metadata": {},
   "source": [
    "# Support Vector Machines\n",
    "\n",
    "\n",
    "\n",
    "https://towardsdatascience.com/svm-implementation-from-scratch-python-2db2fc52e5c2\n",
    "\n",
    "\n",
    "#### Gaussian Kernel\n",
    "\n",
    "To find non-linear decision boundaries with the SVM, we need to first implement a Gaussian kernel. You can think of the Gaussian kernel as a similarity function that measures the “distance” between a pair of examples,\n",
    "($x^{(i)}$, $x^{(j)}$). The Gaussian kernel is also parameterized by a bandwidth parameter, $\\sigma$, which determines how fast the similarity metric decreases (to 0) as the examples are further apart.\n",
    "You should now complete the code in `gaussianKernel` to compute the Gaussian kernel between two examples, ($x^{(i)}$, $x^{(j)}$). The Gaussian kernel function is defined as:\n",
    "\n",
    "$$ K_{\\text{gaussian}} \\left( x^{(i)}, x^{(j)} \\right) = \\exp \\left( - \\frac{\\left\\lvert\\left\\lvert x^{(i)} - x^{(j)}\\right\\lvert\\right\\lvert^2}{2\\sigma^2} \\right) = \\exp \\left( -\\frac{\\sum_{k=1}^n \\left( x_k^{(i)} - x_k^{(j)}\\right)^2}{2\\sigma^2} \\right)$$\n",
    "<a id=\"gaussianKernel\"></a>\n",
    "\n",
    "\n",
    "\n"
   ]
  },
  {
   "cell_type": "code",
   "execution_count": 1,
   "metadata": {},
   "outputs": [],
   "source": [
    "import numpy as np\n",
    "import matplotlib.pyplot as plt\n",
    "from scipy import optimize\n",
    "from scipy.io import loadmat"
   ]
  },
  {
   "cell_type": "code",
   "execution_count": 2,
   "metadata": {},
   "outputs": [],
   "source": [
    "def plotData(X, y, grid=False):\n",
    "    pos = y == 1\n",
    "    neg = y == 0\n",
    "\n",
    "    plt.scatter(X[pos, 0], X[pos, 1],linewidths=4,marker='x')\n",
    "    plt.scatter(X[neg, 0], X[neg, 1],linewidths=3)\n",
    "    plt.grid(grid)"
   ]
  },
  {
   "cell_type": "code",
   "execution_count": 3,
   "metadata": {},
   "outputs": [
    {
     "data": {
      "image/png": "[encoded data removed]",
      "text/plain": [
       "<Figure size 432x288 with 1 Axes>"
      ]
     },
     "metadata": {
      "needs_background": "light"
     },
     "output_type": "display_data"
    }
   ],
   "source": [
    "data = loadmat('ex6data1.mat')\n",
    "X, y = data['X'], data['y'][:, 0]\n",
    "plotData(X, y)"
   ]
  },
  {
   "cell_type": "code",
   "execution_count": 21,
   "metadata": {},
   "outputs": [],
   "source": [
    "def svmTrain(X, Y, C, kernelFunction, tol=1e-3, max_passes=5, args=()):\n",
    "    \n",
    "    Y = Y.astype(int)\n",
    "   \n",
    "    m, n = X.shape\n",
    "\n",
    "    passes = 0\n",
    "    E = np.zeros(m)           \n",
    "    alphas = np.zeros(m)      # theta\n",
    "    b = 0                    # theta zero\n",
    "    print(Y.shape)\n",
    "    Y[Y == 0] = -1\n",
    "    print(Y)\n",
    "#    .......................................................................................................\n",
    "\n",
    "\n",
    "\n",
    "    if kernelFunction.__name__ == 'linearKernel':\n",
    "        K = np.dot(X, X.T)\n",
    "    elif kernelFunction.__name__ == 'gaussianKernel':\n",
    "        X2 = np.sum(X**2, axis=1)\n",
    "        K = X2 + X2[:, None] - 2 * np.dot(X, X.T)\n",
    "\n",
    "        if len(args) > 0:\n",
    "            K /= 2*args[0]**2\n",
    "\n",
    "        K = np.exp(-K)\n",
    "    \n",
    "    # we can also add polynomical kerna\n",
    "#     ..........................................................................................................\n",
    "    print(K.shape)\n",
    "    \n",
    "    \n",
    "    while passes < max_passes:\n",
    "        num_changed_alphas = 0\n",
    "        for i in range(m):\n",
    "            E[i] = b + np.sum(alphas * Y * K[:, i]) - Y[i]     # h(theta)-y\n",
    "\n",
    "            if (Y[i]*E[i] < -tol and alphas[i] < C) or (Y[i]*E[i] > tol and alphas[i] > 0):\n",
    "                # select the alpha_j randomly\n",
    "                j = np.random.choice(list(range(i)) + list(range(i+1, m)), size=1)[0]\n",
    "\n",
    "                E[j] = b + np.sum(alphas * Y * K[:, j]) - Y[j]\n",
    "\n",
    "                alpha_i_old = alphas[i]\n",
    "                alpha_j_old = alphas[j]\n",
    "\n",
    "                if Y[i] == Y[j]:\n",
    "                    L = max(0, alphas[j] + alphas[i] - C)\n",
    "                    H = min(C, alphas[j] + alphas[i])\n",
    "                else:\n",
    "                    L = max(0, alphas[j] - alphas[i])\n",
    "                    H = min(C, C + alphas[j] - alphas[i])\n",
    "\n",
    "                if L == H:\n",
    "                    continue\n",
    "\n",
    "                eta = 2 * K[i, j] - K[i, i] - K[j, j]\n",
    "\n",
    "                # objective function positive definite, there will be a minimum along the direction\n",
    "                # of linear equality constrain, and eta will be greater than zero\n",
    "                # we are actually computing -eta here (so we skip of eta >= 0)\n",
    "                if eta >= 0:\n",
    "                    continue\n",
    "\n",
    "                alphas[j] -= Y[j] * (E[i] - E[j])/eta\n",
    "                alphas[j] = max(L, min(H, alphas[j]))\n",
    "\n",
    "                if abs(alphas[j] - alpha_j_old) < tol:\n",
    "                    alphas[j] = alpha_j_old\n",
    "                    continue\n",
    "                alphas[i] += Y[i]*Y[j]*(alpha_j_old - alphas[j])\n",
    "\n",
    "                b1 = b - E[i] - Y[i]*(alphas[i] - alpha_i_old) * K[i, j] \\\n",
    "                     - Y[j] * (alphas[j] - alpha_j_old) * K[i, j]\n",
    "\n",
    "                b2 = b - E[j] - Y[i]*(alphas[i] - alpha_i_old) * K[i, j] \\\n",
    "                     - Y[j] * (alphas[j] - alpha_j_old) * K[j, j]\n",
    "\n",
    "                if 0 < alphas[i] < C:\n",
    "                    b = b1\n",
    "                elif 0 < alphas[j] < C:\n",
    "                    b = b2\n",
    "                else:\n",
    "                    b = (b1 + b2)/2\n",
    "\n",
    "                num_changed_alphas += 1\n",
    "        if num_changed_alphas == 0:\n",
    "            passes += 1\n",
    "        else:\n",
    "            passes = 0\n",
    "\n",
    "    idx = alphas > 0\n",
    "  \n",
    "\n",
    "    model = {'X': X[idx, :],\n",
    "             'y': Y[idx],\n",
    "             'kernelFunction': kernelFunction,\n",
    "             'b': b,\n",
    "             'args': args,\n",
    "             'alphas': alphas[idx],\n",
    "             'w': np.dot(alphas * Y, X)}\n",
    "    return model\n",
    "\n"
   ]
  },
  {
   "cell_type": "code",
   "execution_count": 22,
   "metadata": {},
   "outputs": [],
   "source": [
    "def linearKernel(x1, x2):\n",
    "    return np.dot(x1, x2)\n"
   ]
  },
  {
   "cell_type": "code",
   "execution_count": 23,
   "metadata": {},
   "outputs": [],
   "source": [
    "def visualizeBoundaryLinear(X, y, model):\n",
    "    w, b = model['w'], model['b']\n",
    "    xp = np.linspace(min(X[:, 0]), max(X[:, 0]), 100)\n",
    "    yp = -(w[0] * xp + b)/w[1]\n",
    "\n",
    "    plotData(X, y)\n",
    "    plt.plot(xp, yp, 'm')\n"
   ]
  },
  {
   "cell_type": "code",
   "execution_count": 24,
   "metadata": {},
   "outputs": [
    {
     "name": "stdout",
     "output_type": "stream",
     "text": [
      "(51,)\n",
      "[ 1  1  1  1  1  1  1  1  1  1  1  1  1  1  1  1  1  1  1  1 -1 -1 -1 -1\n",
      " -1 -1 -1 -1 -1 -1 -1 -1 -1 -1 -1 -1 -1 -1 -1 -1 -1 -1 -1 -1 -1 -1 -1 -1\n",
      " -1 -1  1]\n",
      "(51, 51)\n"
     ]
    },
    {
     "data": {
      "image/png": "[encoded data removed]",
      "text/plain": [
       "<Figure size 432x288 with 1 Axes>"
      ]
     },
     "metadata": {
      "needs_background": "light"
     },
     "output_type": "display_data"
    }
   ],
   "source": [
    "C = 100    #  if we reduce value of c the svm start neglecting corner point\n",
    "model = svmTrain(X, y, C, linearKernel, 1e-3, 20)\n",
    "# print(model)\n",
    "visualizeBoundaryLinear(X, y, model)"
   ]
  },
  {
   "cell_type": "code",
   "execution_count": null,
   "metadata": {},
   "outputs": [],
   "source": [
    "def gaussianKernel(x1, x2, sigma):\n",
    "    \n",
    "    sim = 0\n",
    "    sim = np.exp(-np.sum((x1 - x2) ** 2) / (2 * (sigma ** 2)))\n",
    "    return sim"
   ]
  },
  {
   "cell_type": "code",
   "execution_count": null,
   "metadata": {},
   "outputs": [],
   "source": [
    "x1 = np.array([1, 2, 1])\n",
    "x2 = np.array([0, 4, -1])\n",
    "sigma = 2\n",
    "\n",
    "sim = gaussianKernel(x1, x2, sigma)"
   ]
  },
  {
   "cell_type": "code",
   "execution_count": null,
   "metadata": {},
   "outputs": [],
   "source": [
    "data = loadmat('ex6data2.mat')\n",
    "X, y = data['X'], data['y'][:, 0]\n",
    "\n",
    "plotData(X, y)"
   ]
  },
  {
   "cell_type": "code",
   "execution_count": null,
   "metadata": {},
   "outputs": [],
   "source": [
    "def visualizeBoundary(X, y, model):\n",
    "    \n",
    "    plotData(X, y)\n",
    "\n",
    "    # make classification predictions over a grid of values\n",
    "    x1plot = np.linspace(min(X[:, 0]), max(X[:, 0]), 100)\n",
    "    x2plot = np.linspace(min(X[:, 1]), max(X[:, 1]), 100)\n",
    "    X1, X2 = np.meshgrid(x1plot, x2plot)\n",
    "\n",
    "    vals = np.zeros(X1.shape)\n",
    "    for i in range(X1.shape[1]):\n",
    "        this_X = np.stack((X1[:, i], X2[:, i]), axis=1)\n",
    "        vals[:, i] = svmPredict(model, this_X)\n",
    "\n",
    "    plt.contour(X1, X2, vals, colors='y', linewidths=2)\n",
    "    plt.pcolormesh(X1, X2, vals, cmap='YlGnBu', alpha=0.25, edgecolors='None', lw=0)\n",
    "    plt.grid(False)\n",
    "    plt.show()\n",
    "    "
   ]
  },
  {
   "cell_type": "code",
   "execution_count": null,
   "metadata": {},
   "outputs": [],
   "source": [
    "def svmPredict(model, X):\n",
    "    \n",
    "    # check if we are getting a vector. If so, then assume we only need to do predictions\n",
    "    # for a single example\n",
    "    if X.ndim == 1:\n",
    "        X = X[np.newaxis, :]\n",
    "\n",
    "    m = X.shape[0]\n",
    "    p = np.zeros(m)\n",
    "    pred = np.zeros(m)\n",
    "\n",
    "    if model['kernelFunction'].__name__ == 'linearKernel':\n",
    "        # we can use the weights and bias directly if working with the linear kernel\n",
    "        p = np.dot(X, model['w']) + model['b']\n",
    "    elif model['kernelFunction'].__name__ == 'gaussianKernel':\n",
    "        # vectorized RBF Kernel\n",
    "        # This is equivalent to computing the kernel on every pair of examples\n",
    "        X1 = np.sum(X**2, 1)\n",
    "        X2 = np.sum(model['X']**2, 1)\n",
    "        K = X2 + X1[:, None] - 2 * np.dot(X, model['X'].T)\n",
    "\n",
    "        if len(model['args']) > 0:\n",
    "            K /= 2*model['args'][0]**2\n",
    "\n",
    "        K = np.exp(-K)\n",
    "        p = np.dot(K, model['alphas']*model['y']) + model['b']\n",
    "    else:\n",
    "        # other non-linear kernel\n",
    "        for i in range(m):\n",
    "            predictions = 0\n",
    "            for j in range(model['X'].shape[0]):\n",
    "                predictions += model['alphas'][j] * model['y'][j] \\\n",
    "                               * model['kernelFunction'](X[i, :], model['X'][j, :])\n",
    "            p[i] = predictions\n",
    "\n",
    "    pred[p >= 0] = 1\n",
    "    return pred\n"
   ]
  },
  {
   "cell_type": "code",
   "execution_count": null,
   "metadata": {},
   "outputs": [],
   "source": [
    "# SVM Parameters\n",
    "C = 1\n",
    "sigma = 0.1\n",
    "\n",
    "model= svmTrain(X, y, C, gaussianKernel, args=(sigma,))\n",
    "visualizeBoundary(X, y, model)"
   ]
  },
  {
   "cell_type": "code",
   "execution_count": null,
   "metadata": {},
   "outputs": [],
   "source": []
  }
 ],
 "metadata": {
  "kernelspec": {
   "display_name": "Python 3",
   "language": "python",
   "name": "python3"
  },
  "language_info": {
   "codemirror_mode": {
    "name": "ipython",
    "version": 3
   },
   "file_extension": ".py",
   "mimetype": "text/x-python",
   "name": "python",
   "nbconvert_exporter": "python",
   "pygments_lexer": "ipython3",
   "version": "3.7.9"
  }
 },
 "nbformat": 4,
 "nbformat_minor": 4
}
