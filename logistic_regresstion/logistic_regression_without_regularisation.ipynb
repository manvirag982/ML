{
 "cells": [
  {
   "cell_type": "code",
   "execution_count": 46,
   "metadata": {},
   "outputs": [],
   "source": [
    "#  Anubhav gupta \n",
    "# note X=m*(n+1),x=m*(n)\n",
    "import numpy as np\n",
    "import matplotlib.pyplot as plt\n",
    "import pandas as pd\n",
    "from matplotlib import style\n",
    "import seaborn as sb        # for cool visulize"
   ]
  },
  {
   "cell_type": "code",
   "execution_count": 47,
   "metadata": {},
   "outputs": [],
   "source": [
    "df=pd.read_csv('ex2data1.txt',names=['Subject 1','Subject 2','Admission'])"
   ]
  },
  {
   "cell_type": "code",
   "execution_count": 48,
   "metadata": {},
   "outputs": [],
   "source": [
    "df.head(10)\n",
    "# subject1,subject2=x, admission= y   (note make always x,t np array for easy manipulation)\n",
    "x=df.iloc[:,0:2].values  # iloc(x,slice of y)\n",
    "y=df.iloc[:,2].values\n",
    "# x"
   ]
  },
  {
   "cell_type": "code",
   "execution_count": 49,
   "metadata": {},
   "outputs": [
    {
     "name": "stdout",
     "output_type": "stream",
     "text": [
      "['Solarize_Light2', '_classic_test_patch', 'bmh', 'classic', 'dark_background', 'fast', 'fivethirtyeight', 'ggplot', 'grayscale', 'seaborn', 'seaborn-bright', 'seaborn-colorblind', 'seaborn-dark', 'seaborn-dark-palette', 'seaborn-darkgrid', 'seaborn-deep', 'seaborn-muted', 'seaborn-notebook', 'seaborn-paper', 'seaborn-pastel', 'seaborn-poster', 'seaborn-talk', 'seaborn-ticks', 'seaborn-white', 'seaborn-whitegrid', 'tableau-colorblind10']\n"
     ]
    },
    {
     "data": {
      "image/png": "[encoded data removed]",
      "text/plain": [
       "<Figure size 640x440 with 1 Axes>"
      ]
     },
     "metadata": {},
     "output_type": "display_data"
    }
   ],
   "source": [
    "#  admission yellow\n",
    "\n",
    "pos_one= (y==1).reshape((100,1))   # pos_one becomes true where y==1\n",
    "pos_zero=(y==0).reshape((100,1))\n",
    "m=len(y)\n",
    "# pos_zero=\n",
    "# print(pos_one)\n",
    "\n",
    "print(style.available)\n",
    "style.use('seaborn')\n",
    "plt.scatter(x[pos_one[:,0],0],x[pos_one[:,0],1],color='y',marker='+',linewidth=8)\n",
    "plt.scatter(x[pos_zero[:,0],0],x[pos_zero[:,0],1],color='m',marker='o',linewidth=2)\n",
    "plt.legend([\"Admitted\",\"Not Admitted\"])\n",
    "# sb.scatterplot(x[pos_one[:,0],0],x[pos_one[:,0],1])\n",
    "# sb.scatterplot(data=df, x=\"Subject 1\", y=\"Subject 2\")\n",
    "plt.show()"
   ]
  },
  {
   "cell_type": "code",
   "execution_count": 50,
   "metadata": {},
   "outputs": [],
   "source": [
    "def sigmod(value):\n",
    "    return 1/(1+np.exp(-value))\n",
    "    \n"
   ]
  },
  {
   "cell_type": "code",
   "execution_count": 51,
   "metadata": {},
   "outputs": [],
   "source": [
    "def cost_funtion(X,theta,y,m): #(m*3,3*1,m*1) n+1=3\n",
    "    \n",
    "#     print(X.shape,theta.shape)\n",
    "    sig=sigmod(np.dot(X,theta))\n",
    "#     print(sig.shape)\n",
    "    return float((-1/m)*(np.transpose(y).dot(np.log(sig))   +    np.transpose(1-y).dot(np.log(1-sig))))   # first write and solve in note\n"
   ]
  },
  {
   "cell_type": "code",
   "execution_count": 52,
   "metadata": {},
   "outputs": [],
   "source": [
    "def feature_scaling(X):\n",
    "    \n",
    "    #\n",
    "    #     x=(x-mean)/standard_deviation  mean--> coloumwise\n",
    "    #     if data is large ne to scaling\n",
    "    \n",
    "    mean=np.mean(X,axis=0)   \n",
    "    mx=np.max(X)\n",
    "    mn=np.min(X)\n",
    "#     sd=np.std(X,axis=0)\n",
    "    X_=(X-mean)/(mx-mn);\n",
    "#     X_=(X-mean)/sd                 # can also use\n",
    "    return X_;\n",
    "    \n",
    "    \n",
    "    "
   ]
  },
  {
   "cell_type": "code",
   "execution_count": 53,
   "metadata": {},
   "outputs": [],
   "source": [
    "J_with_theta=[]\n",
    "def gradient_descent(theta,X,y,alpha,iteration,m):\n",
    "    for i in range(iteration):\n",
    "        theta-=(alpha/m)*(np.transpose(X).dot(sigmod(np.dot(X,theta))-y))  # write in note then think \n",
    "        J_with_theta.append(cost_funtion(X,theta,y,m))\n",
    "         \n",
    "    return theta,J_with_theta\n",
    "    "
   ]
  },
  {
   "cell_type": "code",
   "execution_count": 54,
   "metadata": {},
   "outputs": [
    {
     "name": "stdout",
     "output_type": "stream",
     "text": [
      "[[ 1.         -0.44461865  0.16916809]\n",
      " [ 1.         -0.50678017 -0.32001303]\n",
      " [ 1.         -0.42707865  0.09574735]\n",
      " [ 1.         -0.07828222  0.2879007 ]\n",
      " [ 1.          0.19189691  0.1307511 ]\n",
      " [ 1.         -0.29470089 -0.1419774 ]\n",
      " [ 1.         -0.06503758  0.43413855]\n",
      " [ 1.          0.13445035 -0.28190134]\n",
      " [ 1.          0.14984459  0.30383925]\n",
      " [ 1.          0.26929634 -0.32519591]\n",
      " [ 1.          0.43310447 -0.40127716]\n",
      " [ 1.          0.13429144 -0.51052354]\n",
      " [ 1.          0.23882772  0.14705614]\n",
      " [ 1.          0.05332329  0.4514423 ]\n",
      " [ 1.         -0.37417652  0.14067577]\n",
      " [ 1.         -0.16731236  0.32944919]\n",
      " [ 1.          0.04910302 -0.19323083]\n",
      " [ 1.          0.03300291 -0.28011601]\n",
      " [ 1.          0.07191207  0.38276493]\n",
      " [ 1.          0.16245759 -0.26725372]\n",
      " [ 1.          0.0247639  -0.3351567 ]\n",
      " [ 1.          0.34445799 -0.00605759]\n",
      " [ 1.         -0.21656435 -0.24890966]\n",
      " [ 1.         -0.4505181  -0.31550486]\n",
      " [ 1.          0.1760067   0.03942095]\n",
      " [ 1.         -0.04834896  0.05349737]\n",
      " [ 1.          0.20848657 -0.30673162]\n",
      " [ 1.          0.39372932 -0.39303005]\n",
      " [ 1.         -0.05466706 -0.2288392 ]\n",
      " [ 1.         -0.38496261 -0.01757681]\n",
      " [ 1.         -0.06113005  0.09439559]\n",
      " [ 1.          0.28322371 -0.13143387]\n",
      " [ 1.         -0.19401579 -0.04435169]\n",
      " [ 1.         -0.19491267  0.0460213 ]\n",
      " [ 1.         -0.36416413  0.07088746]\n",
      " [ 1.         -0.15779448 -0.20077836]\n",
      " [ 1.         -0.45476871  0.46793592]\n",
      " [ 1.         -0.02103061  0.21049542]\n",
      " [ 1.          0.13107504 -0.35328829]\n",
      " [ 1.         -0.45092546  0.1292224 ]\n",
      " [ 1.          0.26169374 -0.14209673]\n",
      " [ 1.         -0.20204599 -0.27756881]\n",
      " [ 1.          0.41277758 -0.00936055]\n",
      " [ 1.          0.23971207 -0.3669786 ]\n",
      " [ 1.         -0.20921204 -0.29238324]\n",
      " [ 1.         -0.04904179 -0.20296979]\n",
      " [ 1.          0.16552846  0.06071751]\n",
      " [ 1.          0.46048114  0.2939101 ]\n",
      " [ 1.         -0.05118618  0.43782784]\n",
      " [ 1.          0.37152155  0.3221242 ]\n",
      " [ 1.          0.20496978  0.11382014]\n",
      " [ 1.          0.48199395 -0.07486082]\n",
      " [ 1.          0.35692682 -0.32724254]\n",
      " [ 1.         -0.44603971 -0.08349916]\n",
      " [ 1.         -0.22012312 -0.23531154]\n",
      " [ 1.         -0.23015363 -0.09191824]\n",
      " [ 1.          0.45867568  0.03783304]\n",
      " [ 1.         -0.47395057  0.42105426]\n",
      " [ 1.          0.12332716  0.0516357 ]\n",
      " [ 1.          0.08817935  0.17531508]\n",
      " [ 1.          0.13976598  0.28003739]\n",
      " [ 1.         -0.43512371 -0.27521499]\n",
      " [ 1.         -0.13459347 -0.38642537]\n",
      " [ 1.         -0.51004649 -0.2383439 ]\n",
      " [ 1.         -0.30064931  0.00326919]\n",
      " [ 1.          0.01313793 -0.36018701]\n",
      " [ 1.         -0.36100145  0.4488121 ]\n",
      " [ 1.         -0.23752243 -0.20551791]\n",
      " [ 1.          0.20976784  0.37113976]\n",
      " [ 1.          0.01580134 -0.07497028]\n",
      " [ 1.         -0.47186321 -0.32843832]\n",
      " [ 1.         -0.02300381  0.16926836]\n",
      " [ 1.          0.09606296  0.43007037]\n",
      " [ 1.         -0.07433653  0.09851075]\n",
      " [ 1.         -0.097512    0.1381193 ]\n",
      " [ 1.          0.48995351  0.08810863]\n",
      " [ 1.         -0.26344072  0.31896481]\n",
      " [ 1.         -0.21766267  0.13742288]\n",
      " [ 1.         -0.07436992 -0.33988701]\n",
      " [ 1.          0.23767546 -0.33685602]\n",
      " [ 1.          0.33352364  0.05133783]\n",
      " [ 1.          0.41838378 -0.29422352]\n",
      " [ 1.          0.02400755  0.0052653 ]\n",
      " [ 1.         -0.12047705 -0.09614174]\n",
      " [ 1.          0.21101742  0.35457205]\n",
      " [ 1.          0.04047996  0.27766342]\n",
      " [ 1.         -0.33781203  0.18092249]\n",
      " [ 1.          0.14094258  0.34689516]\n",
      " [ 1.          0.18620223  0.43608786]\n",
      " [ 1.         -0.19057552 -0.07815061]\n",
      " [ 1.          0.40777484  0.15676162]\n",
      " [ 1.          0.35551985  0.30510374]\n",
      " [ 1.         -0.14565363 -0.43932519]\n",
      " [ 1.          0.12682443  0.26692556]\n",
      " [ 1.          0.34688071 -0.29903974]\n",
      " [ 1.          0.2557709  -0.25572537]\n",
      " [ 1.         -0.33514256  0.29929972]\n",
      " [ 1.          0.48260284  0.03659806]\n",
      " [ 1.         -0.14769097 -0.01849044]\n",
      " [ 1.          0.13088355  0.33407105]]\n"
     ]
    },
    {
     "data": {
      "text/plain": [
       "float"
      ]
     },
     "execution_count": 54,
     "metadata": {},
     "output_type": "execute_result"
    }
   ],
   "source": [
    "# print(x)  # we have to add horizontal 1 at index 0\n",
    "y=y.reshape((m,1))\n",
    "\n",
    "x=feature_scaling(x)    # if we donot do scaling, (<ipython-input-5-acb8e3f527a4>:2: RuntimeWarning: overflow encountered in exp return 1/(1+np.exp(-value)))   \n",
    "X=np.hstack((x,np.ones((m,1))))\n",
    "\n",
    "X[:,[0,2]]=X[:,[2,0]]       #swap so that ones col come at 0 index\n",
    "X[:,[1,2]]=X[:,[2,1]]\n",
    "print(X)\n",
    "n=2\n",
    "theta=np.zeros((n+1,1))\n",
    "# X\n",
    "type(cost_funtion(X,theta,y,m))\n"
   ]
  },
  {
   "cell_type": "code",
   "execution_count": 55,
   "metadata": {},
   "outputs": [],
   "source": [
    "theta,J_val=gradient_descent(theta,X,y,1,500,m)"
   ]
  },
  {
   "cell_type": "code",
   "execution_count": 56,
   "metadata": {},
   "outputs": [
    {
     "data": {
      "text/plain": [
       "array([[0.99847832],\n",
       "       [8.30130444],\n",
       "       [7.88013358]])"
      ]
     },
     "execution_count": 56,
     "metadata": {},
     "output_type": "execute_result"
    }
   ],
   "source": [
    "theta"
   ]
  },
  {
   "cell_type": "code",
   "execution_count": 57,
   "metadata": {},
   "outputs": [
    {
     "data": {
      "text/plain": [
       "(3, 1)"
      ]
     },
     "execution_count": 57,
     "metadata": {},
     "output_type": "execute_result"
    }
   ],
   "source": [
    "theta.shape"
   ]
  },
  {
   "cell_type": "code",
   "execution_count": 58,
   "metadata": {},
   "outputs": [],
   "source": [
    "# plt.plot(J_val)\n",
    "# plt.show()\n",
    "# J_val"
   ]
  },
  {
   "cell_type": "code",
   "execution_count": 59,
   "metadata": {},
   "outputs": [
    {
     "data": {
      "image/png": "[encoded data removed]",
      "text/plain": [
       "<Figure size 640x440 with 1 Axes>"
      ]
     },
     "metadata": {},
     "output_type": "display_data"
    },
    {
     "name": "stdout",
     "output_type": "stream",
     "text": [
      "[[0.99847832]\n",
      " [8.30130444]\n",
      " [7.88013358]]\n"
     ]
    }
   ],
   "source": [
    "\n",
    "plt.plot(J_val,color='k')\n",
    "plt.show()\n",
    "print(theta)"
   ]
  },
  {
   "cell_type": "markdown",
   "metadata": {},
   "source": [
    "# seems good :D\n",
    "## Decision boundary\n",
    "\n"
   ]
  },
  {
   "cell_type": "code",
   "execution_count": 60,
   "metadata": {},
   "outputs": [
    {
     "data": {
      "image/png": "[encoded data removed]",
      "text/plain": [
       "<Figure size 640x440 with 1 Axes>"
      ]
     },
     "metadata": {},
     "output_type": "display_data"
    }
   ],
   "source": [
    "# plt.xticks(np.arange(0, 100, step=10))\n",
    "style.use(\"ggplot\")\n",
    "plt.scatter(X[pos_one[:,0],1],X[pos_one[:,0],2],color='y',marker='+',linewidth=8)\n",
    "plt.scatter(X[pos_zero[:,0],1],X[pos_zero[:,0],2],color='m',marker='o',linewidth=2)\n",
    "plt.legend([\"Admitted\",\"Not Admitted\"])\n",
    "\n",
    "# Theta_1 + Theta_2*x_1 + theta_3*x_2 = 0 is the decision boundary    \n",
    "x1=X[:,1]\n",
    "x2=(-theta[0,0]-theta[1,0]*x1)/theta[2,0]\n",
    "plt.plot(x1,x2,color='k')\n",
    "plt.show()\n"
   ]
  },
  {
   "cell_type": "code",
   "execution_count": 61,
   "metadata": {},
   "outputs": [
    {
     "name": "stdout",
     "output_type": "stream",
     "text": [
      "Accuracy: 89 %\n"
     ]
    }
   ],
   "source": [
    "def Prediction(theta,X):\n",
    "    predictions = X.dot(theta)\n",
    "    \n",
    "    return predictions>=0\n",
    "p=Prediction(theta,X)\n",
    "print(\"Accuracy:\", sum(p==y)[0],\"%\")"
   ]
  },
  {
   "cell_type": "code",
   "execution_count": null,
   "metadata": {},
   "outputs": [],
   "source": []
  }
 ],
 "metadata": {
  "kernelspec": {
   "display_name": "Python 3",
   "language": "python",
   "name": "python3"
  },
  "language_info": {
   "codemirror_mode": {
    "name": "ipython",
    "version": 3
   },
   "file_extension": ".py",
   "mimetype": "text/x-python",
   "name": "python",
   "nbconvert_exporter": "python",
   "pygments_lexer": "ipython3",
   "version": "3.8.1"
  }
 },
 "nbformat": 4,
 "nbformat_minor": 4
}
