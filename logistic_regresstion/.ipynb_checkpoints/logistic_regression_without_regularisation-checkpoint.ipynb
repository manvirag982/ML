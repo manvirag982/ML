{
 "cells": [
  {
   "cell_type": "code",
   "execution_count": 1,
   "metadata": {},
   "outputs": [],
   "source": [
    "#  Anubhav gupta \n",
    "# note X=m*(n+1),x=m*(n)\n",
    "import numpy as np\n",
    "import matplotlib.pyplot as plt\n",
    "import pandas as pd\n",
    "from matplotlib import style\n",
    "import seaborn as sb        # for cool visulize"
   ]
  },
  {
   "cell_type": "code",
   "execution_count": 2,
   "metadata": {},
   "outputs": [],
   "source": [
    "df=pd.read_csv('ex2data1.txt',names=['Subject 1','Subject 2','Admission'])"
   ]
  },
  {
   "cell_type": "code",
   "execution_count": 3,
   "metadata": {},
   "outputs": [],
   "source": [
    "df.head(10)\n",
    "# subject1,subject2=x, admission= y   (note make always x,t np array for easy manipulation)\n",
    "x=df.iloc[:,0:2].values  # iloc(x,slice of y)\n",
    "y=df.iloc[:,2].values\n",
    "# x"
   ]
  },
  {
   "cell_type": "code",
   "execution_count": 4,
   "metadata": {},
   "outputs": [
    {
     "name": "stdout",
     "output_type": "stream",
     "text": [
      "['Solarize_Light2', '_classic_test_patch', 'bmh', 'classic', 'dark_background', 'fast', 'fivethirtyeight', 'ggplot', 'grayscale', 'seaborn', 'seaborn-bright', 'seaborn-colorblind', 'seaborn-dark', 'seaborn-dark-palette', 'seaborn-darkgrid', 'seaborn-deep', 'seaborn-muted', 'seaborn-notebook', 'seaborn-paper', 'seaborn-pastel', 'seaborn-poster', 'seaborn-talk', 'seaborn-ticks', 'seaborn-white', 'seaborn-whitegrid', 'tableau-colorblind10']\n"
     ]
    },
    {
     "data": {
      "image/png": "[encoded data removed]",
      "text/plain": [
       "<Figure size 576x396 with 1 Axes>"
      ]
     },
     "metadata": {},
     "output_type": "display_data"
    }
   ],
   "source": [
    "#  admission yellow\n",
    "\n",
    "pos_one= (y==1).reshape((100,1))   # pos_one becomes true where y==1\n",
    "pos_zero=(y==0).reshape((100,1))\n",
    "m=len(y)\n",
    "# pos_zero=\n",
    "# print(pos_one)\n",
    "\n",
    "print(style.available)\n",
    "style.use('seaborn')\n",
    "plt.scatter(x[pos_one[:,0],0],x[pos_one[:,0],1],color='y',marker='+',linewidth=8)\n",
    "plt.scatter(x[pos_zero[:,0],0],x[pos_zero[:,0],1],color='m',marker='o',linewidth=2)\n",
    "plt.legend([\"Admitted\",\"Not Admitted\"])\n",
    "# sb.scatterplot(x[pos_one[:,0],0],x[pos_one[:,0],1])\n",
    "# sb.scatterplot(data=df, x=\"Subject 1\", y=\"Subject 2\")\n",
    "plt.show()"
   ]
  },
  {
   "cell_type": "code",
   "execution_count": 5,
   "metadata": {},
   "outputs": [],
   "source": [
    "def sigmod(value):\n",
    "    return 1/(1+np.exp(-value))\n",
    "    \n"
   ]
  },
  {
   "cell_type": "code",
   "execution_count": 6,
   "metadata": {},
   "outputs": [],
   "source": [
    "def cost_funtion(X,theta,y,m): #(m*3,3*1,m*1) n+1=3\n",
    "    \n",
    "#     print(X.shape,theta.shape)\n",
    "    sig=sigmod(np.dot(X,theta))\n",
    "#     print(sig.shape)\n",
    "    return float((-1/m)*(np.transpose(y).dot(np.log(sig))   +    np.transpose(1-y).dot(np.log(1-sig))))   # first write and solve in note\n"
   ]
  },
  {
   "cell_type": "code",
   "execution_count": 7,
   "metadata": {},
   "outputs": [],
   "source": [
    "def feature_scaling(X):\n",
    "    \n",
    "    #\n",
    "    #     x=(x-mean)/standard_deviation  mean--> coloumwise\n",
    "    #     if data is large ne to scaling\n",
    "    \n",
    "    mean=np.mean(X,axis=0)   \n",
    "    mx=np.max(X)\n",
    "    mn=np.min(X)\n",
    "#     sd=np.std(X,axis=0)\n",
    "    X_=(X-mean)/(mx-mn);\n",
    "#     X_=(X-mean)/sd                 # can also use\n",
    "    return X_;\n",
    "    \n",
    "    \n",
    "    "
   ]
  },
  {
   "cell_type": "code",
   "execution_count": 8,
   "metadata": {},
   "outputs": [],
   "source": [
    "J_with_theta=[]\n",
    "def gradient_descent(theta,X,y,alpha,iteration,m):\n",
    "    for i in range(iteration):\n",
    "        theta-=(alpha/m)*(np.transpose(X).dot(sigmod(np.dot(X,theta))-y))  # write in note then think \n",
    "        J_with_theta.append(cost_funtion(X,theta,y,m))\n",
    "         \n",
    "    return theta,J_with_theta\n",
    "    "
   ]
  },
  {
   "cell_type": "code",
   "execution_count": 9,
   "metadata": {},
   "outputs": [
    {
     "name": "stdout",
     "output_type": "stream",
     "text": [
      "[[ 0.         -0.31388533  0.1194268 ]\n",
      " [ 0.         -0.3577692  -0.22591809]\n",
      " [ 0.         -0.30150269  0.0675943 ]\n",
      " [ 0.         -0.05526453  0.20324789]\n",
      " [ 0.          0.13547255  0.09230574]\n",
      " [ 0.         -0.20804859 -0.10023111]\n",
      " [ 0.         -0.04591428  0.30648674]\n",
      " [ 0.          0.09491728 -0.19901256]\n",
      " [ 0.          0.10578508  0.21449996]\n",
      " [ 0.          0.19011386 -0.22957702]\n",
      " [ 0.          0.30575671 -0.28328774]\n",
      " [ 0.          0.09480509 -0.36041189]\n",
      " [ 0.          0.16860407  0.10381653]\n",
      " [ 0.          0.03764439  0.31870259]\n",
      " [ 0.         -0.26415563  0.09931221]\n",
      " [ 0.         -0.11811671  0.23257969]\n",
      " [ 0.          0.03466502 -0.13641425]\n",
      " [ 0.          0.02329891 -0.19775218]\n",
      " [ 0.          0.05076742  0.27021875]\n",
      " [ 0.          0.11468942 -0.18867185]\n",
      " [ 0.          0.01748245 -0.23660899]\n",
      " [ 0.          0.24317538 -0.00427645]\n",
      " [ 0.         -0.15288691 -0.17572157]\n",
      " [ 0.         -0.31805013 -0.22273547]\n",
      " [ 0.          0.12425461  0.02782982]\n",
      " [ 0.         -0.03413269  0.03776728]\n",
      " [ 0.          0.14718428 -0.21654187]\n",
      " [ 0.          0.27795922 -0.27746557]\n",
      " [ 0.         -0.03859305 -0.16155253]\n",
      " [ 0.         -0.27177024 -0.01240862]\n",
      " [ 0.         -0.04315569  0.06664001]\n",
      " [ 0.          0.19994611 -0.09278775]\n",
      " [ 0.         -0.13696841 -0.03131075]\n",
      " [ 0.         -0.13760158  0.03248944]\n",
      " [ 0.         -0.25708723  0.05004409]\n",
      " [ 0.         -0.11139742 -0.14174255]\n",
      " [ 0.         -0.32105091  0.33034651]\n",
      " [ 0.         -0.01484688  0.14860246]\n",
      " [ 0.          0.09253442 -0.24940926]\n",
      " [ 0.         -0.31833771  0.09122653]\n",
      " [ 0.          0.18474669 -0.10031536]\n",
      " [ 0.         -0.14263745 -0.19595394]\n",
      " [ 0.          0.29140664 -0.00660822]\n",
      " [ 0.          0.16922839 -0.25907415]\n",
      " [ 0.         -0.14769644 -0.20641241]\n",
      " [ 0.         -0.0346218  -0.14328962]\n",
      " [ 0.          0.11685734  0.04286445]\n",
      " [ 0.          0.3250837   0.20749032]\n",
      " [ 0.         -0.03613566  0.30909125]\n",
      " [ 0.          0.26228131  0.2274085 ]\n",
      " [ 0.          0.14470155  0.08035306]\n",
      " [ 0.          0.34027099 -0.05284914]\n",
      " [ 0.          0.25197794 -0.23102187]\n",
      " [ 0.         -0.31488854 -0.0589475 ]\n",
      " [ 0.         -0.15539928 -0.16612178]\n",
      " [ 0.         -0.16248047 -0.06489109]\n",
      " [ 0.          0.3238091   0.02670881]\n",
      " [ 0.         -0.33459264  0.29724968]\n",
      " [ 0.          0.0870647   0.03645301]\n",
      " [ 0.          0.06225156  0.12376636]\n",
      " [ 0.          0.09866993  0.19769667]\n",
      " [ 0.         -0.30718222 -0.19429222]\n",
      " [ 0.         -0.09501832 -0.27280289]\n",
      " [ 0.         -0.36007511 -0.16826252]\n",
      " [ 0.         -0.21224797  0.00230793]\n",
      " [ 0.          0.00927492 -0.25427952]\n",
      " [ 0.         -0.25485449  0.31684576]\n",
      " [ 0.         -0.16768259 -0.14508851]\n",
      " [ 0.          0.14808881  0.26201178]\n",
      " [ 0.          0.0111552  -0.05292641]\n",
      " [ 0.         -0.33311904 -0.23186605]\n",
      " [ 0.         -0.01623989  0.11949758]\n",
      " [ 0.          0.06781711  0.30361475]\n",
      " [ 0.         -0.05247901  0.06954517]\n",
      " [ 0.         -0.06884008  0.09750743]\n",
      " [ 0.          0.34589016  0.06220163]\n",
      " [ 0.         -0.18598     0.22517808]\n",
      " [ 0.         -0.15366228  0.09701578]\n",
      " [ 0.         -0.05250258 -0.23994842]\n",
      " [ 0.          0.16779062 -0.23780865]\n",
      " [ 0.          0.2354561   0.03624272]\n",
      " [ 0.          0.29536442 -0.20771159]\n",
      " [ 0.          0.01694849  0.00371712]\n",
      " [ 0.         -0.08505262 -0.06787273]\n",
      " [ 0.          0.14897097  0.25031555]\n",
      " [ 0.          0.02857745  0.19602073]\n",
      " [ 0.         -0.23848356  0.127725  ]\n",
      " [ 0.          0.09950057  0.24489594]\n",
      " [ 0.          0.13145231  0.30786288]\n",
      " [ 0.         -0.1345397  -0.05517162]\n",
      " [ 0.          0.28787487  0.11066826]\n",
      " [ 0.          0.25098467  0.21539264]\n",
      " [ 0.         -0.1028264  -0.31014833]\n",
      " [ 0.          0.08953365  0.18844017]\n",
      " [ 0.          0.24488574 -0.21111167]\n",
      " [ 0.          0.18056537 -0.18053323]\n",
      " [ 0.         -0.23659901  0.21129521]\n",
      " [ 0.          0.34070085  0.02583696]\n",
      " [ 0.         -0.1042647  -0.01305361]\n",
      " [ 0.          0.09239924  0.23584256]]\n"
     ]
    },
    {
     "data": {
      "text/plain": [
       "float"
      ]
     },
     "execution_count": 9,
     "metadata": {},
     "output_type": "execute_result"
    }
   ],
   "source": [
    "# print(x)  # we have to add horizontal 1 at index 0\n",
    "y=y.reshape((m,1))\n",
    "\n",
    "    # if we donot do scaling, (<ipython-input-5-acb8e3f527a4>:2: RuntimeWarning: overflow encountered in exp return 1/(1+np.exp(-value)))   \n",
    "X=np.hstack((x,np.ones((m,1))))\n",
    "\n",
    "X[:,[0,2]]=X[:,[2,0]]       #swap so that ones col come at 0 index\n",
    "X[:,[1,2]]=X[:,[2,1]]\n",
    "print(X)\n",
    "n=2\n",
    "theta=np.zeros((n+1,1))\n",
    "# X\n",
    "type(cost_funtion(X,theta,y,m))\n"
   ]
  },
  {
   "cell_type": "code",
   "execution_count": 10,
   "metadata": {},
   "outputs": [],
   "source": [
    "theta,J_val=gradient_descent(theta,X,y,1,500,m)"
   ]
  },
  {
   "cell_type": "code",
   "execution_count": 11,
   "metadata": {},
   "outputs": [
    {
     "data": {
      "text/plain": [
       "array([[0.       ],\n",
       "       [8.5895956],\n",
       "       [7.8615809]])"
      ]
     },
     "execution_count": 11,
     "metadata": {},
     "output_type": "execute_result"
    }
   ],
   "source": [
    "theta"
   ]
  },
  {
   "cell_type": "code",
   "execution_count": 12,
   "metadata": {},
   "outputs": [
    {
     "data": {
      "text/plain": [
       "(3, 1)"
      ]
     },
     "execution_count": 12,
     "metadata": {},
     "output_type": "execute_result"
    }
   ],
   "source": [
    "theta.shape"
   ]
  },
  {
   "cell_type": "code",
   "execution_count": 13,
   "metadata": {},
   "outputs": [],
   "source": [
    "# plt.plot(J_val)\n",
    "# plt.show()\n",
    "# J_val"
   ]
  },
  {
   "cell_type": "code",
   "execution_count": 14,
   "metadata": {},
   "outputs": [
    {
     "data": {
      "image/png": "[encoded data removed]",
      "text/plain": [
       "<Figure size 576x396 with 1 Axes>"
      ]
     },
     "metadata": {},
     "output_type": "display_data"
    },
    {
     "name": "stdout",
     "output_type": "stream",
     "text": [
      "[[0.       ]\n",
      " [8.5895956]\n",
      " [7.8615809]]\n"
     ]
    }
   ],
   "source": [
    "\n",
    "plt.plot(J_val,color='k')\n",
    "plt.show()\n",
    "print(theta)"
   ]
  },
  {
   "cell_type": "markdown",
   "metadata": {},
   "source": [
    "# seems good :D\n",
    "## Decision boundary\n",
    "\n"
   ]
  },
  {
   "cell_type": "code",
   "execution_count": 15,
   "metadata": {},
   "outputs": [
    {
     "data": {
      "image/png": "[encoded data removed]",
      "text/plain": [
       "<Figure size 576x396 with 1 Axes>"
      ]
     },
     "metadata": {},
     "output_type": "display_data"
    }
   ],
   "source": [
    "# plt.xticks(np.arange(0, 100, step=10))\n",
    "style.use(\"ggplot\")\n",
    "plt.scatter(X[pos_one[:,0],1],X[pos_one[:,0],2],color='y',marker='+',linewidth=8)\n",
    "plt.scatter(X[pos_zero[:,0],1],X[pos_zero[:,0],2],color='m',marker='o',linewidth=2)\n",
    "plt.legend([\"Admitted\",\"Not Admitted\"])\n",
    "\n",
    "# Theta_1 + Theta_2*x_1 + theta_3*x_2 = 0 is the decision boundary    \n",
    "x1=X[:,1]\n",
    "x2=(-theta[0,0]-theta[1,0]*x1)/theta[2,0]\n",
    "plt.plot(x1,x2,color='k')\n",
    "plt.show()\n"
   ]
  },
  {
   "cell_type": "code",
   "execution_count": 16,
   "metadata": {},
   "outputs": [
    {
     "name": "stdout",
     "output_type": "stream",
     "text": [
      "Accuracy: 87 %\n"
     ]
    }
   ],
   "source": [
    "def Prediction(theta,X):\n",
    "    predictions = X.dot(theta)\n",
    "    \n",
    "    return predictions>=0\n",
    "p=Prediction(theta,X)\n",
    "print(\"Accuracy:\", sum(p==y)[0],\"%\")"
   ]
  },
  {
   "cell_type": "code",
   "execution_count": null,
   "metadata": {},
   "outputs": [],
   "source": []
  }
 ],
 "metadata": {
  "kernelspec": {
   "display_name": "Python 3",
   "language": "python",
   "name": "python3"
  },
  "language_info": {
   "codemirror_mode": {
    "name": "ipython",
    "version": 3
   },
   "file_extension": ".py",
   "mimetype": "text/x-python",
   "name": "python",
   "nbconvert_exporter": "python",
   "pygments_lexer": "ipython3",
   "version": "3.8.1"
  }
 },
 "nbformat": 4,
 "nbformat_minor": 4
}
